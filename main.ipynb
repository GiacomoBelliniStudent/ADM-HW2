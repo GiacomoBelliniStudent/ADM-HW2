{
 "cells": [
  {
   "cell_type": "markdown",
   "source": [
    "# **Algorithm and Data Mining for Data Science Homework 2**\n",
    "\n",
    "\n",
    "\n",
    "## **#2 Homework: Instagram Profiles & Posts**"
   ],
   "metadata": {
    "collapsed": false,
    "pycharm": {
     "name": "#%% md\n"
    }
   }
  },
  {
   "cell_type": "markdown",
   "source": [
    "## **[RQ1] Data Analysis (EDA)**"
   ],
   "metadata": {
    "collapsed": false,
    "pycharm": {
     "name": "#%% md\n"
    }
   }
  },
  {
   "cell_type": "code",
   "execution_count": 1,
   "outputs": [],
   "source": [
    "# import libraries\n",
    "import matplotlib.pyplot as plt\n",
    "import seaborn as sns; sns.set()\n",
    "import numpy as np\n",
    "import pandas as pd"
   ],
   "metadata": {
    "collapsed": false,
    "pycharm": {
     "name": "#%%\n"
    }
   }
  },
  {
   "cell_type": "code",
   "execution_count": 2,
   "outputs": [],
   "source": [
    "posts = pd.read_csv('../Datasets/instagram_posts.csv', sep=\"\\t\", iterator=True, chunksize = 1000)\n",
    "locations = pd.read_csv('../Datasets/instagram_locations.csv', sep='\\t')\n",
    "profiles = pd.read_csv('../Datasets/instagram_profiles.csv', sep='\\t')\n",
    "num_chunks = 10000"
   ],
   "metadata": {
    "collapsed": false,
    "pycharm": {
     "name": "#%%\n"
    }
   }
  },
  {
   "cell_type": "code",
   "execution_count": 3,
   "outputs": [],
   "source": [
    "posts_chunk = posts.get_chunk(num_chunks)"
   ],
   "metadata": {
    "collapsed": false,
    "pycharm": {
     "name": "#%%\n"
    }
   }
  },
  {
   "cell_type": "code",
   "execution_count": 4,
   "outputs": [
    {
     "data": {
      "text/plain": "            sid  sid_profile      post_id  profile_id      location_id  \\\n10000  28381208           -1  BpPPJe6FnO3  8135621357  173399483337248   \n10001  28381168           -1  BtoKk2Jlszk  3117914696  316620195072788   \n10002  28381166           -1  Bt-Fml-g4Vj  3117914696  316620195072788   \n10003  28381167           -1  BtsDooElK-x  3117914696  316620195072788   \n10004  28381165           -1  Bt_15oDgPNL  3117914696  316620195072788   \n\n                           cts  post_type  \\\n10000  2018-10-22 16:04:23.000          1   \n10001  2019-02-08 17:31:01.000          1   \n10002  2019-02-17 05:50:51.000          1   \n10003  2019-02-10 05:47:20.000          1   \n10004  2019-02-17 22:12:07.000          1   \n\n                                             description  numbr_likes  \\\n10000  Velkommen til Verksted Jord, vi har åpent tors...           37   \n10001  I get to paint this beautiful hair tomorrow, I...           59   \n10002  🎨✨Another one for @oneshothairawards #btconesh...           30   \n10003  Just a little taste of something new coming fr...           80   \n10004  Cool Balayage 🌪 @oneshothairawards #btconeshot...           43   \n\n       number_comments  \n10000                0  \n10001                1  \n10002                0  \n10003                2  \n10004                1  ",
      "text/html": "<div>\n<style scoped>\n    .dataframe tbody tr th:only-of-type {\n        vertical-align: middle;\n    }\n\n    .dataframe tbody tr th {\n        vertical-align: top;\n    }\n\n    .dataframe thead th {\n        text-align: right;\n    }\n</style>\n<table border=\"1\" class=\"dataframe\">\n  <thead>\n    <tr style=\"text-align: right;\">\n      <th></th>\n      <th>sid</th>\n      <th>sid_profile</th>\n      <th>post_id</th>\n      <th>profile_id</th>\n      <th>location_id</th>\n      <th>cts</th>\n      <th>post_type</th>\n      <th>description</th>\n      <th>numbr_likes</th>\n      <th>number_comments</th>\n    </tr>\n  </thead>\n  <tbody>\n    <tr>\n      <th>10000</th>\n      <td>28381208</td>\n      <td>-1</td>\n      <td>BpPPJe6FnO3</td>\n      <td>8135621357</td>\n      <td>173399483337248</td>\n      <td>2018-10-22 16:04:23.000</td>\n      <td>1</td>\n      <td>Velkommen til Verksted Jord, vi har åpent tors...</td>\n      <td>37</td>\n      <td>0</td>\n    </tr>\n    <tr>\n      <th>10001</th>\n      <td>28381168</td>\n      <td>-1</td>\n      <td>BtoKk2Jlszk</td>\n      <td>3117914696</td>\n      <td>316620195072788</td>\n      <td>2019-02-08 17:31:01.000</td>\n      <td>1</td>\n      <td>I get to paint this beautiful hair tomorrow, I...</td>\n      <td>59</td>\n      <td>1</td>\n    </tr>\n    <tr>\n      <th>10002</th>\n      <td>28381166</td>\n      <td>-1</td>\n      <td>Bt-Fml-g4Vj</td>\n      <td>3117914696</td>\n      <td>316620195072788</td>\n      <td>2019-02-17 05:50:51.000</td>\n      <td>1</td>\n      <td>🎨✨Another one for @oneshothairawards #btconesh...</td>\n      <td>30</td>\n      <td>0</td>\n    </tr>\n    <tr>\n      <th>10003</th>\n      <td>28381167</td>\n      <td>-1</td>\n      <td>BtsDooElK-x</td>\n      <td>3117914696</td>\n      <td>316620195072788</td>\n      <td>2019-02-10 05:47:20.000</td>\n      <td>1</td>\n      <td>Just a little taste of something new coming fr...</td>\n      <td>80</td>\n      <td>2</td>\n    </tr>\n    <tr>\n      <th>10004</th>\n      <td>28381165</td>\n      <td>-1</td>\n      <td>Bt_15oDgPNL</td>\n      <td>3117914696</td>\n      <td>316620195072788</td>\n      <td>2019-02-17 22:12:07.000</td>\n      <td>1</td>\n      <td>Cool Balayage 🌪 @oneshothairawards #btconeshot...</td>\n      <td>43</td>\n      <td>1</td>\n    </tr>\n  </tbody>\n</table>\n</div>"
     },
     "execution_count": 4,
     "metadata": {},
     "output_type": "execute_result"
    }
   ],
   "source": [
    "posts.get_chunk(5)"
   ],
   "metadata": {
    "collapsed": false,
    "pycharm": {
     "name": "#%%\n"
    }
   }
  },
  {
   "cell_type": "code",
   "execution_count": 5,
   "outputs": [
    {
     "name": "stdout",
     "output_type": "stream",
     "text": [
      "<class 'pandas.core.frame.DataFrame'>\n",
      "RangeIndex: 10000 entries, 0 to 9999\n",
      "Data columns (total 10 columns):\n",
      " #   Column           Non-Null Count  Dtype \n",
      "---  ------           --------------  ----- \n",
      " 0   sid              10000 non-null  int64 \n",
      " 1   sid_profile      10000 non-null  int64 \n",
      " 2   post_id          10000 non-null  object\n",
      " 3   profile_id       10000 non-null  int64 \n",
      " 4   location_id      10000 non-null  int64 \n",
      " 5   cts              10000 non-null  object\n",
      " 6   post_type        10000 non-null  int64 \n",
      " 7   description      9228 non-null   object\n",
      " 8   numbr_likes      10000 non-null  int64 \n",
      " 9   number_comments  10000 non-null  int64 \n",
      "dtypes: int64(7), object(3)\n",
      "memory usage: 781.4+ KB\n"
     ]
    }
   ],
   "source": [
    "posts_chunk.info()"
   ],
   "metadata": {
    "collapsed": false,
    "pycharm": {
     "name": "#%%\n"
    }
   }
  },
  {
   "cell_type": "code",
   "execution_count": 7,
   "outputs": [
    {
     "name": "stdout",
     "output_type": "stream",
     "text": [
      "<class 'pandas.core.frame.DataFrame'>\n",
      "RangeIndex: 1022658 entries, 0 to 1022657\n",
      "Data columns (total 23 columns):\n",
      " #   Column                  Non-Null Count    Dtype  \n",
      "---  ------                  --------------    -----  \n",
      " 0   sid                     1022658 non-null  int64  \n",
      " 1   id                      1022658 non-null  int64  \n",
      " 2   name                    1022658 non-null  object \n",
      " 3   street                  715704 non-null   object \n",
      " 4   zip                     715579 non-null   object \n",
      " 5   city                    937166 non-null   object \n",
      " 6   region                  1760 non-null     object \n",
      " 7   cd                      939010 non-null   object \n",
      " 8   phone                   601688 non-null   object \n",
      " 9   aj_exact_city_match     1000510 non-null  object \n",
      " 10  aj_exact_country_match  1000510 non-null  object \n",
      " 11  blurb                   406705 non-null   object \n",
      " 12  dir_city_id             495698 non-null   object \n",
      " 13  dir_city_name           495698 non-null   object \n",
      " 14  dir_city_slug           495221 non-null   object \n",
      " 15  dir_country_id          495628 non-null   object \n",
      " 16  dir_country_name        495698 non-null   object \n",
      " 17  lat                     1016495 non-null  float64\n",
      " 18  lng                     1016495 non-null  float64\n",
      " 19  primary_alias_on_fb     425531 non-null   object \n",
      " 20  slug                    941668 non-null   object \n",
      " 21  website                 623262 non-null   object \n",
      " 22  cts                     1022658 non-null  object \n",
      "dtypes: float64(2), int64(2), object(19)\n",
      "memory usage: 179.5+ MB\n"
     ]
    }
   ],
   "source": [
    "locations.info()"
   ],
   "metadata": {
    "collapsed": false,
    "pycharm": {
     "name": "#%%\n"
    }
   }
  },
  {
   "cell_type": "code",
   "execution_count": 8,
   "outputs": [
    {
     "name": "stdout",
     "output_type": "stream",
     "text": [
      "<class 'pandas.core.frame.DataFrame'>\n",
      "RangeIndex: 4509586 entries, 0 to 4509585\n",
      "Data columns (total 11 columns):\n",
      " #   Column               Dtype  \n",
      "---  ------               -----  \n",
      " 0   sid                  int64  \n",
      " 1   profile_id           float64\n",
      " 2   profile_name         object \n",
      " 3   firstname_lastname   object \n",
      " 4   description          object \n",
      " 5   following            float64\n",
      " 6   followers            float64\n",
      " 7   n_posts              float64\n",
      " 8   url                  object \n",
      " 9   cts                  object \n",
      " 10  is_business_account  object \n",
      "dtypes: float64(4), int64(1), object(6)\n",
      "memory usage: 378.5+ MB\n"
     ]
    }
   ],
   "source": [
    "profiles.info()"
   ],
   "metadata": {
    "collapsed": false,
    "pycharm": {
     "name": "#%%\n"
    }
   }
  },
  {
   "cell_type": "code",
   "execution_count": 9,
   "outputs": [
    {
     "name": "stdout",
     "output_type": "stream",
     "text": [
      "Unique post IDs: 10000\n",
      "Unique location cities: 118541\n",
      "Unique profile names: 4508180\n"
     ]
    }
   ],
   "source": [
    "num_post_ids, num_loc_cities, num_profiles_names = posts_chunk['post_id'].nunique(), locations['city'].nunique(), profiles['profile_name'].nunique()\n",
    "\n",
    "print(\"Unique post IDs: {}\".format(num_post_ids))\n",
    "print(\"Unique location cities: {}\".format(num_loc_cities))\n",
    "print(\"Unique profile names: {}\".format(num_profiles_names))"
   ],
   "metadata": {
    "collapsed": false,
    "pycharm": {
     "name": "#%%\n"
    }
   }
  },
  {
   "cell_type": "markdown",
   "source": [
    "## **[RQ2] Simple Insights**"
   ],
   "metadata": {
    "collapsed": false,
    "pycharm": {
     "name": "#%% md\n"
    }
   }
  },
  {
   "cell_type": "code",
   "execution_count": 10,
   "outputs": [
    {
     "data": {
      "text/plain": "             sid    profile_id         profile_name  \\\n3990313  3661552  1.996648e+08           jasem33312   \n2571453  3288809  8.563367e+09            koenigpic   \n4338921  3970193  1.273455e+09           rudyanto62   \n3942129  3621669  9.813508e+06          hometown_ni   \n4219642  3851869  1.607309e+09  dwfitfiber_thailand   \n...          ...           ...                  ...   \n4509575  4184448  2.438073e+08            not_omeed   \n4509577  4184452  6.567796e+08             shak._n5   \n4509582  4184469  1.340704e+07        jornvlaeminck   \n4509583  4184470  6.007354e+09              s_degol   \n4509585  4184511  2.088094e+09        arnaubassols_   \n\n                 firstname_lastname  \\\n3990313                  jasem33312   \n2571453           Helperwait Studio   \n4338921                Rudyanto 王耀祝   \n3942129         AngelsCowboysLakers   \n4219642  เห็นผลตั้งแต่เซ็ตแรกท้าลอง   \n...                             ...   \n4509575                       أوميد   \n4509577              Shakil Hussain   \n4509582              Jorn Vlaeminck   \n4509583                 Sanne Degol   \n4509585        Arnau Bassols Noguer   \n\n                                               description  following  \\\n3990313                                                NaN        2.0   \n2571453                       Веб сайты от идеи до запуска     4538.0   \n4338921                                                NaN      164.0   \n3942129  All about live & let live. Peace & Harmony. La...     7488.0   \n4219642  ✿รับตัวแทนรายได้ดีมาก\\n🏧 KTB l SCB l KBANK | B...     7490.0   \n...                                                    ...        ...   \n4509575                                                NaN        NaN   \n4509577                                                NaN        NaN   \n4509582                                                NaN        NaN   \n4509583                                                NaN        NaN   \n4509585                                                NaN        NaN   \n\n         followers   n_posts                   url  \\\n3990313    82049.0  183730.0                   NaN   \n2571453      675.0  142428.0  vk.com/ru.helperwait   \n4338921     1693.0  126340.0                   NaN   \n3942129     1755.0  125220.0                   NaN   \n4219642    44951.0  117262.0        bit.ly/2GdIYJl   \n...            ...       ...                   ...   \n4509575        NaN       NaN                   NaN   \n4509577        NaN       NaN                   NaN   \n4509582        NaN       NaN                   NaN   \n4509583        NaN       NaN                   NaN   \n4509585        NaN       NaN                   NaN   \n\n                                   cts is_business_account  \n3990313  2019-06-30 19:14:19.780 -0400               False  \n2571453  2019-05-07 00:14:06.799 -0400                True  \n4338921  2019-07-15 10:00:51.171 -0400               False  \n3942129  2019-06-27 02:49:38.140 -0400               False  \n4219642  2019-07-13 02:10:07.317 -0400                True  \n...                                ...                 ...  \n4509575  2019-08-01 14:39:06.271 -0400                 NaN  \n4509577  2019-08-01 14:39:23.911 -0400                 NaN  \n4509582  2019-08-01 14:40:41.628 -0400                 NaN  \n4509583  2019-08-01 14:40:42.983 -0400                 NaN  \n4509585  2019-08-01 14:42:30.055 -0400                 NaN  \n\n[4509586 rows x 11 columns]",
      "text/html": "<div>\n<style scoped>\n    .dataframe tbody tr th:only-of-type {\n        vertical-align: middle;\n    }\n\n    .dataframe tbody tr th {\n        vertical-align: top;\n    }\n\n    .dataframe thead th {\n        text-align: right;\n    }\n</style>\n<table border=\"1\" class=\"dataframe\">\n  <thead>\n    <tr style=\"text-align: right;\">\n      <th></th>\n      <th>sid</th>\n      <th>profile_id</th>\n      <th>profile_name</th>\n      <th>firstname_lastname</th>\n      <th>description</th>\n      <th>following</th>\n      <th>followers</th>\n      <th>n_posts</th>\n      <th>url</th>\n      <th>cts</th>\n      <th>is_business_account</th>\n    </tr>\n  </thead>\n  <tbody>\n    <tr>\n      <th>3990313</th>\n      <td>3661552</td>\n      <td>1.996648e+08</td>\n      <td>jasem33312</td>\n      <td>jasem33312</td>\n      <td>NaN</td>\n      <td>2.0</td>\n      <td>82049.0</td>\n      <td>183730.0</td>\n      <td>NaN</td>\n      <td>2019-06-30 19:14:19.780 -0400</td>\n      <td>False</td>\n    </tr>\n    <tr>\n      <th>2571453</th>\n      <td>3288809</td>\n      <td>8.563367e+09</td>\n      <td>koenigpic</td>\n      <td>Helperwait Studio</td>\n      <td>Веб сайты от идеи до запуска</td>\n      <td>4538.0</td>\n      <td>675.0</td>\n      <td>142428.0</td>\n      <td>vk.com/ru.helperwait</td>\n      <td>2019-05-07 00:14:06.799 -0400</td>\n      <td>True</td>\n    </tr>\n    <tr>\n      <th>4338921</th>\n      <td>3970193</td>\n      <td>1.273455e+09</td>\n      <td>rudyanto62</td>\n      <td>Rudyanto 王耀祝</td>\n      <td>NaN</td>\n      <td>164.0</td>\n      <td>1693.0</td>\n      <td>126340.0</td>\n      <td>NaN</td>\n      <td>2019-07-15 10:00:51.171 -0400</td>\n      <td>False</td>\n    </tr>\n    <tr>\n      <th>3942129</th>\n      <td>3621669</td>\n      <td>9.813508e+06</td>\n      <td>hometown_ni</td>\n      <td>AngelsCowboysLakers</td>\n      <td>All about live &amp; let live. Peace &amp; Harmony. La...</td>\n      <td>7488.0</td>\n      <td>1755.0</td>\n      <td>125220.0</td>\n      <td>NaN</td>\n      <td>2019-06-27 02:49:38.140 -0400</td>\n      <td>False</td>\n    </tr>\n    <tr>\n      <th>4219642</th>\n      <td>3851869</td>\n      <td>1.607309e+09</td>\n      <td>dwfitfiber_thailand</td>\n      <td>เห็นผลตั้งแต่เซ็ตแรกท้าลอง</td>\n      <td>✿รับตัวแทนรายได้ดีมาก\\n🏧 KTB l SCB l KBANK | B...</td>\n      <td>7490.0</td>\n      <td>44951.0</td>\n      <td>117262.0</td>\n      <td>bit.ly/2GdIYJl</td>\n      <td>2019-07-13 02:10:07.317 -0400</td>\n      <td>True</td>\n    </tr>\n    <tr>\n      <th>...</th>\n      <td>...</td>\n      <td>...</td>\n      <td>...</td>\n      <td>...</td>\n      <td>...</td>\n      <td>...</td>\n      <td>...</td>\n      <td>...</td>\n      <td>...</td>\n      <td>...</td>\n      <td>...</td>\n    </tr>\n    <tr>\n      <th>4509575</th>\n      <td>4184448</td>\n      <td>2.438073e+08</td>\n      <td>not_omeed</td>\n      <td>أوميد</td>\n      <td>NaN</td>\n      <td>NaN</td>\n      <td>NaN</td>\n      <td>NaN</td>\n      <td>NaN</td>\n      <td>2019-08-01 14:39:06.271 -0400</td>\n      <td>NaN</td>\n    </tr>\n    <tr>\n      <th>4509577</th>\n      <td>4184452</td>\n      <td>6.567796e+08</td>\n      <td>shak._n5</td>\n      <td>Shakil Hussain</td>\n      <td>NaN</td>\n      <td>NaN</td>\n      <td>NaN</td>\n      <td>NaN</td>\n      <td>NaN</td>\n      <td>2019-08-01 14:39:23.911 -0400</td>\n      <td>NaN</td>\n    </tr>\n    <tr>\n      <th>4509582</th>\n      <td>4184469</td>\n      <td>1.340704e+07</td>\n      <td>jornvlaeminck</td>\n      <td>Jorn Vlaeminck</td>\n      <td>NaN</td>\n      <td>NaN</td>\n      <td>NaN</td>\n      <td>NaN</td>\n      <td>NaN</td>\n      <td>2019-08-01 14:40:41.628 -0400</td>\n      <td>NaN</td>\n    </tr>\n    <tr>\n      <th>4509583</th>\n      <td>4184470</td>\n      <td>6.007354e+09</td>\n      <td>s_degol</td>\n      <td>Sanne Degol</td>\n      <td>NaN</td>\n      <td>NaN</td>\n      <td>NaN</td>\n      <td>NaN</td>\n      <td>NaN</td>\n      <td>2019-08-01 14:40:42.983 -0400</td>\n      <td>NaN</td>\n    </tr>\n    <tr>\n      <th>4509585</th>\n      <td>4184511</td>\n      <td>2.088094e+09</td>\n      <td>arnaubassols_</td>\n      <td>Arnau Bassols Noguer</td>\n      <td>NaN</td>\n      <td>NaN</td>\n      <td>NaN</td>\n      <td>NaN</td>\n      <td>NaN</td>\n      <td>2019-08-01 14:42:30.055 -0400</td>\n      <td>NaN</td>\n    </tr>\n  </tbody>\n</table>\n<p>4509586 rows × 11 columns</p>\n</div>"
     },
     "execution_count": 10,
     "metadata": {},
     "output_type": "execute_result"
    }
   ],
   "source": [
    "# Plot the number of posts for each profile in descending order\n",
    "profiles.groupby([\"profile_id\"], dropna=True)['n_posts'].sum()\n",
    "profiles.sort_values(by='n_posts', ascending = False)"
   ],
   "metadata": {
    "collapsed": false,
    "pycharm": {
     "name": "#%%\n"
    }
   }
  },
  {
   "cell_type": "code",
   "execution_count": 11,
   "outputs": [
    {
     "data": {
      "text/plain": "           sid  sid_profile      post_id  profile_id  location_id  \\\n1861  28372824      3444658  BWatkdZACtC     7061024     59743640   \n1265  26702072       301272  BP3clgjDC-Q   319897212   1029929202   \n2660  28374117       548786  Bvo_FBVgypy   208502444    751708427   \n5471  28376593           -1  BJs2p4ZBYn3   335410451    568572977   \n5805  28376800           -1  BaWZhdrnL2n   530835252    274141210   \n4786  28375819           -1  BxDZBh-nMLT  3127385206    347539836   \n4489  28375502        96176  BWV0XlLFYap    28226901        56495   \n7633  28378626       355000  BeoMTEvAPHr    43867292    229414338   \n7115  28378115           -1  BvQHvOHBOab  1526791424   1018609727   \n1407  28372402      3267216  BMZ1dkwAFSH    26017486      5096215   \n\n                          cts  post_type  \\\n1861  2017-07-11 21:05:22.000          1   \n1265  2017-01-30 00:15:11.000          1   \n2660  2019-03-30 18:12:35.000          1   \n5471  2016-08-29 19:22:57.000          1   \n5805  2017-10-17 14:58:48.000          1   \n4786  2019-05-04 21:50:56.000          1   \n4489  2017-07-09 23:28:34.000          1   \n7633  2018-01-31 21:55:09.000          1   \n7115  2019-03-21 02:27:14.000          1   \n1407  2016-11-04 22:41:09.000          1   \n\n                                            description  numbr_likes  \\\n1861  Я вот просматриваю иногда свой аккаунт Инстагр...       298913   \n1265  Iridescent pastel pink 🦄 \\nCreated using Lipgl...       129571   \n2660  Confirmation that Huddersfield are relegated f...       123678   \n5471                        On rigole bien quand même💃🏼       106113   \n5805  Algún día debería hacer una quedada 🤤🤤\\nCuando...        67342   \n4786  Prévias feitas! Agora é comer, descansar e esp...        60736   \n4489       Baby Driver in Wellington (📸 @carmelovarela)        50442   \n7633  Great morning at Spence. Many thanks Hollie @h...        47271   \n7115  Măm Măm 😋😋😋 #ngoctrinh #ngoctrinhofficial #you...        47065   \n1407             date night at putte's 🍕#helsinkisecret        43821   \n\n      number_comments  \n1861              386  \n1265              386  \n2660              484  \n5471              545  \n5805              398  \n4786              879  \n4489              116  \n7633              152  \n7115              171  \n1407               53  ",
      "text/html": "<div>\n<style scoped>\n    .dataframe tbody tr th:only-of-type {\n        vertical-align: middle;\n    }\n\n    .dataframe tbody tr th {\n        vertical-align: top;\n    }\n\n    .dataframe thead th {\n        text-align: right;\n    }\n</style>\n<table border=\"1\" class=\"dataframe\">\n  <thead>\n    <tr style=\"text-align: right;\">\n      <th></th>\n      <th>sid</th>\n      <th>sid_profile</th>\n      <th>post_id</th>\n      <th>profile_id</th>\n      <th>location_id</th>\n      <th>cts</th>\n      <th>post_type</th>\n      <th>description</th>\n      <th>numbr_likes</th>\n      <th>number_comments</th>\n    </tr>\n  </thead>\n  <tbody>\n    <tr>\n      <th>1861</th>\n      <td>28372824</td>\n      <td>3444658</td>\n      <td>BWatkdZACtC</td>\n      <td>7061024</td>\n      <td>59743640</td>\n      <td>2017-07-11 21:05:22.000</td>\n      <td>1</td>\n      <td>Я вот просматриваю иногда свой аккаунт Инстагр...</td>\n      <td>298913</td>\n      <td>386</td>\n    </tr>\n    <tr>\n      <th>1265</th>\n      <td>26702072</td>\n      <td>301272</td>\n      <td>BP3clgjDC-Q</td>\n      <td>319897212</td>\n      <td>1029929202</td>\n      <td>2017-01-30 00:15:11.000</td>\n      <td>1</td>\n      <td>Iridescent pastel pink 🦄 \\nCreated using Lipgl...</td>\n      <td>129571</td>\n      <td>386</td>\n    </tr>\n    <tr>\n      <th>2660</th>\n      <td>28374117</td>\n      <td>548786</td>\n      <td>Bvo_FBVgypy</td>\n      <td>208502444</td>\n      <td>751708427</td>\n      <td>2019-03-30 18:12:35.000</td>\n      <td>1</td>\n      <td>Confirmation that Huddersfield are relegated f...</td>\n      <td>123678</td>\n      <td>484</td>\n    </tr>\n    <tr>\n      <th>5471</th>\n      <td>28376593</td>\n      <td>-1</td>\n      <td>BJs2p4ZBYn3</td>\n      <td>335410451</td>\n      <td>568572977</td>\n      <td>2016-08-29 19:22:57.000</td>\n      <td>1</td>\n      <td>On rigole bien quand même💃🏼</td>\n      <td>106113</td>\n      <td>545</td>\n    </tr>\n    <tr>\n      <th>5805</th>\n      <td>28376800</td>\n      <td>-1</td>\n      <td>BaWZhdrnL2n</td>\n      <td>530835252</td>\n      <td>274141210</td>\n      <td>2017-10-17 14:58:48.000</td>\n      <td>1</td>\n      <td>Algún día debería hacer una quedada 🤤🤤\\nCuando...</td>\n      <td>67342</td>\n      <td>398</td>\n    </tr>\n    <tr>\n      <th>4786</th>\n      <td>28375819</td>\n      <td>-1</td>\n      <td>BxDZBh-nMLT</td>\n      <td>3127385206</td>\n      <td>347539836</td>\n      <td>2019-05-04 21:50:56.000</td>\n      <td>1</td>\n      <td>Prévias feitas! Agora é comer, descansar e esp...</td>\n      <td>60736</td>\n      <td>879</td>\n    </tr>\n    <tr>\n      <th>4489</th>\n      <td>28375502</td>\n      <td>96176</td>\n      <td>BWV0XlLFYap</td>\n      <td>28226901</td>\n      <td>56495</td>\n      <td>2017-07-09 23:28:34.000</td>\n      <td>1</td>\n      <td>Baby Driver in Wellington (📸 @carmelovarela)</td>\n      <td>50442</td>\n      <td>116</td>\n    </tr>\n    <tr>\n      <th>7633</th>\n      <td>28378626</td>\n      <td>355000</td>\n      <td>BeoMTEvAPHr</td>\n      <td>43867292</td>\n      <td>229414338</td>\n      <td>2018-01-31 21:55:09.000</td>\n      <td>1</td>\n      <td>Great morning at Spence. Many thanks Hollie @h...</td>\n      <td>47271</td>\n      <td>152</td>\n    </tr>\n    <tr>\n      <th>7115</th>\n      <td>28378115</td>\n      <td>-1</td>\n      <td>BvQHvOHBOab</td>\n      <td>1526791424</td>\n      <td>1018609727</td>\n      <td>2019-03-21 02:27:14.000</td>\n      <td>1</td>\n      <td>Măm Măm 😋😋😋 #ngoctrinh #ngoctrinhofficial #you...</td>\n      <td>47065</td>\n      <td>171</td>\n    </tr>\n    <tr>\n      <th>1407</th>\n      <td>28372402</td>\n      <td>3267216</td>\n      <td>BMZ1dkwAFSH</td>\n      <td>26017486</td>\n      <td>5096215</td>\n      <td>2016-11-04 22:41:09.000</td>\n      <td>1</td>\n      <td>date night at putte's 🍕#helsinkisecret</td>\n      <td>43821</td>\n      <td>53</td>\n    </tr>\n  </tbody>\n</table>\n</div>"
     },
     "execution_count": 11,
     "metadata": {},
     "output_type": "execute_result"
    }
   ],
   "source": [
    "# What posts have the highest number of \"likes\"?\n",
    "posts_chunk.sort_values(by='numbr_likes', ascending=False).head(10)"
   ],
   "metadata": {
    "collapsed": false,
    "pycharm": {
     "name": "#%%\n"
    }
   }
  },
  {
   "cell_type": "code",
   "execution_count": 12,
   "outputs": [
    {
     "data": {
      "text/plain": "           sid  sid_profile      post_id   profile_id       location_id  \\\n5633  27386281      3398819  BgkKMt4hAW7   2955286544        1012854533   \n3319  28374324       396283  BfrIDlygv1G    217723373         548438207   \n9733  28380873           -1  BxCwkRuAKgi    238711109  2229985840579401   \n4786  28375819           -1  BxDZBh-nMLT   3127385206         347539836   \n2659  25528599           -1  BtB0CP-nAIc    373344088         751708427   \n4417  28375403        87675  BxuReBznXnw   7629888318   127562401356728   \n5471  28376593           -1  BJs2p4ZBYn3    335410451         568572977   \n2660  28374117       548786  Bvo_FBVgypy    208502444         751708427   \n567   28371656           -1  BfymkS7nVN8     20935109         264423834   \n5805  28376800           -1  BaWZhdrnL2n    530835252         274141210   \n114   28371044           -1  BxmT17KFzWR  13138343586         571655810   \n276   28371231           -1  BwAAECnHqcA   4238893089          96914970   \n315   28371254           -1  BxYSzAVhEzg    305906318   556799621322049   \n695   26702250           -1  Bx3O2Ugh9ic  13470877248         283264221   \n912   28371890           -1  Bvs_QPSp55Z   2266963628  1494970777267026   \n967   28371939           -1  BxZmZa8nDJB   2080878590   976004499246853   \n968   28371940           -1  BxYYuefjxBM    246709241   976004499246853   \n988   28371995           -1  Bw3YQJeAvic    260162660   527503834011860   \n1036  28371998           -1  BwZ-gAiAJZi    260162660   527503834011860   \n1040  28372002           -1  BtjH6snAOmE    260162660   527503834011860   \n\n                          cts  post_type  \\\n5633  2018-03-21 01:22:38.000          1   \n3319  2018-02-26 21:47:12.000          1   \n9733  2019-05-04 15:57:25.000          1   \n4786  2019-05-04 21:50:56.000          1   \n2659  2019-01-24 20:02:55.000          1   \n4417  2019-05-21 13:32:16.000          1   \n5471  2016-08-29 19:22:57.000          1   \n2660  2019-03-30 18:12:35.000          1   \n567   2018-03-01 19:28:30.000          1   \n5805  2017-10-17 14:58:48.000          1   \n114   2019-05-18 11:19:05.000          1   \n276   2019-04-08 17:43:43.000          1   \n315   2019-05-13 00:40:35.000          1   \n695   2019-05-25 01:02:32.000          1   \n912   2019-04-01 08:31:04.000          1   \n967   2019-05-13 12:51:05.000          1   \n968   2019-05-13 01:32:23.000          1   \n988   2019-04-30 05:56:05.000          2   \n1036  2019-04-18 19:50:19.000          1   \n1040  2019-02-06 18:31:35.000          1   \n\n                                            description  numbr_likes  \\\n5633  Доброе утро, красотки 💃🏻\\nУ нас отличная новос...          302   \n3319  Despite a steady downpour, thousands flocked t...        23425   \n9733  🎉🎉GIVEAWAY🎉🎉\\n.\\n@yifangtea.sg has launched th...          641   \n4786  Prévias feitas! Agora é comer, descansar e esp...        60736   \n2659  I'm really happy for the opportunity to play i...        24232   \n4417  🍦🍨🍦Ice cream giveaway!!🍦🍨🍦\\nTo kick off summer...          432   \n5471                        On rigole bien quand même💃🏼       106113   \n2660  Confirmation that Huddersfield are relegated f...       123678   \n567   NAME MY SHOW!!!Awhile back, I asked you guys w...        20848   \n5805  Algún día debería hacer una quedada 🤤🤤\\nCuando...        67342   \n114      La natura incontaminata \\nLa creazione divina🔝            0   \n276                                                 NaN            0   \n315                                                 NaN            0   \n695   Cruach Ardrain & Beinn Tulaichean - 8 & 9 out ...            0   \n912                                                  #🤪            0   \n967           Wondering if they have milk in the menu 🤔            0   \n968                                         Foodgasm 💗💗            0   \n988   My new look treat yourself not cheat yourself ...            0   \n1036  Catch me on da 1’s & 2’s Easter 🐣 Sunday perfo...            0   \n1040  It’s a free weekend in Polk co everybody free ...            0   \n\n      number_comments  \n5633            13983  \n3319             1340  \n9733             1012  \n4786              879  \n2659              792  \n4417              642  \n5471              545  \n2660              484  \n567               467  \n5805              398  \n114                 0  \n276                 0  \n315                 0  \n695                 0  \n912                 0  \n967                 0  \n968                 0  \n988                 0  \n1036                0  \n1040                0  ",
      "text/html": "<div>\n<style scoped>\n    .dataframe tbody tr th:only-of-type {\n        vertical-align: middle;\n    }\n\n    .dataframe tbody tr th {\n        vertical-align: top;\n    }\n\n    .dataframe thead th {\n        text-align: right;\n    }\n</style>\n<table border=\"1\" class=\"dataframe\">\n  <thead>\n    <tr style=\"text-align: right;\">\n      <th></th>\n      <th>sid</th>\n      <th>sid_profile</th>\n      <th>post_id</th>\n      <th>profile_id</th>\n      <th>location_id</th>\n      <th>cts</th>\n      <th>post_type</th>\n      <th>description</th>\n      <th>numbr_likes</th>\n      <th>number_comments</th>\n    </tr>\n  </thead>\n  <tbody>\n    <tr>\n      <th>5633</th>\n      <td>27386281</td>\n      <td>3398819</td>\n      <td>BgkKMt4hAW7</td>\n      <td>2955286544</td>\n      <td>1012854533</td>\n      <td>2018-03-21 01:22:38.000</td>\n      <td>1</td>\n      <td>Доброе утро, красотки 💃🏻\\nУ нас отличная новос...</td>\n      <td>302</td>\n      <td>13983</td>\n    </tr>\n    <tr>\n      <th>3319</th>\n      <td>28374324</td>\n      <td>396283</td>\n      <td>BfrIDlygv1G</td>\n      <td>217723373</td>\n      <td>548438207</td>\n      <td>2018-02-26 21:47:12.000</td>\n      <td>1</td>\n      <td>Despite a steady downpour, thousands flocked t...</td>\n      <td>23425</td>\n      <td>1340</td>\n    </tr>\n    <tr>\n      <th>9733</th>\n      <td>28380873</td>\n      <td>-1</td>\n      <td>BxCwkRuAKgi</td>\n      <td>238711109</td>\n      <td>2229985840579401</td>\n      <td>2019-05-04 15:57:25.000</td>\n      <td>1</td>\n      <td>🎉🎉GIVEAWAY🎉🎉\\n.\\n@yifangtea.sg has launched th...</td>\n      <td>641</td>\n      <td>1012</td>\n    </tr>\n    <tr>\n      <th>4786</th>\n      <td>28375819</td>\n      <td>-1</td>\n      <td>BxDZBh-nMLT</td>\n      <td>3127385206</td>\n      <td>347539836</td>\n      <td>2019-05-04 21:50:56.000</td>\n      <td>1</td>\n      <td>Prévias feitas! Agora é comer, descansar e esp...</td>\n      <td>60736</td>\n      <td>879</td>\n    </tr>\n    <tr>\n      <th>2659</th>\n      <td>25528599</td>\n      <td>-1</td>\n      <td>BtB0CP-nAIc</td>\n      <td>373344088</td>\n      <td>751708427</td>\n      <td>2019-01-24 20:02:55.000</td>\n      <td>1</td>\n      <td>I'm really happy for the opportunity to play i...</td>\n      <td>24232</td>\n      <td>792</td>\n    </tr>\n    <tr>\n      <th>4417</th>\n      <td>28375403</td>\n      <td>87675</td>\n      <td>BxuReBznXnw</td>\n      <td>7629888318</td>\n      <td>127562401356728</td>\n      <td>2019-05-21 13:32:16.000</td>\n      <td>1</td>\n      <td>🍦🍨🍦Ice cream giveaway!!🍦🍨🍦\\nTo kick off summer...</td>\n      <td>432</td>\n      <td>642</td>\n    </tr>\n    <tr>\n      <th>5471</th>\n      <td>28376593</td>\n      <td>-1</td>\n      <td>BJs2p4ZBYn3</td>\n      <td>335410451</td>\n      <td>568572977</td>\n      <td>2016-08-29 19:22:57.000</td>\n      <td>1</td>\n      <td>On rigole bien quand même💃🏼</td>\n      <td>106113</td>\n      <td>545</td>\n    </tr>\n    <tr>\n      <th>2660</th>\n      <td>28374117</td>\n      <td>548786</td>\n      <td>Bvo_FBVgypy</td>\n      <td>208502444</td>\n      <td>751708427</td>\n      <td>2019-03-30 18:12:35.000</td>\n      <td>1</td>\n      <td>Confirmation that Huddersfield are relegated f...</td>\n      <td>123678</td>\n      <td>484</td>\n    </tr>\n    <tr>\n      <th>567</th>\n      <td>28371656</td>\n      <td>-1</td>\n      <td>BfymkS7nVN8</td>\n      <td>20935109</td>\n      <td>264423834</td>\n      <td>2018-03-01 19:28:30.000</td>\n      <td>1</td>\n      <td>NAME MY SHOW!!!Awhile back, I asked you guys w...</td>\n      <td>20848</td>\n      <td>467</td>\n    </tr>\n    <tr>\n      <th>5805</th>\n      <td>28376800</td>\n      <td>-1</td>\n      <td>BaWZhdrnL2n</td>\n      <td>530835252</td>\n      <td>274141210</td>\n      <td>2017-10-17 14:58:48.000</td>\n      <td>1</td>\n      <td>Algún día debería hacer una quedada 🤤🤤\\nCuando...</td>\n      <td>67342</td>\n      <td>398</td>\n    </tr>\n    <tr>\n      <th>114</th>\n      <td>28371044</td>\n      <td>-1</td>\n      <td>BxmT17KFzWR</td>\n      <td>13138343586</td>\n      <td>571655810</td>\n      <td>2019-05-18 11:19:05.000</td>\n      <td>1</td>\n      <td>La natura incontaminata \\nLa creazione divina🔝</td>\n      <td>0</td>\n      <td>0</td>\n    </tr>\n    <tr>\n      <th>276</th>\n      <td>28371231</td>\n      <td>-1</td>\n      <td>BwAAECnHqcA</td>\n      <td>4238893089</td>\n      <td>96914970</td>\n      <td>2019-04-08 17:43:43.000</td>\n      <td>1</td>\n      <td>NaN</td>\n      <td>0</td>\n      <td>0</td>\n    </tr>\n    <tr>\n      <th>315</th>\n      <td>28371254</td>\n      <td>-1</td>\n      <td>BxYSzAVhEzg</td>\n      <td>305906318</td>\n      <td>556799621322049</td>\n      <td>2019-05-13 00:40:35.000</td>\n      <td>1</td>\n      <td>NaN</td>\n      <td>0</td>\n      <td>0</td>\n    </tr>\n    <tr>\n      <th>695</th>\n      <td>26702250</td>\n      <td>-1</td>\n      <td>Bx3O2Ugh9ic</td>\n      <td>13470877248</td>\n      <td>283264221</td>\n      <td>2019-05-25 01:02:32.000</td>\n      <td>1</td>\n      <td>Cruach Ardrain &amp; Beinn Tulaichean - 8 &amp; 9 out ...</td>\n      <td>0</td>\n      <td>0</td>\n    </tr>\n    <tr>\n      <th>912</th>\n      <td>28371890</td>\n      <td>-1</td>\n      <td>Bvs_QPSp55Z</td>\n      <td>2266963628</td>\n      <td>1494970777267026</td>\n      <td>2019-04-01 08:31:04.000</td>\n      <td>1</td>\n      <td>#🤪</td>\n      <td>0</td>\n      <td>0</td>\n    </tr>\n    <tr>\n      <th>967</th>\n      <td>28371939</td>\n      <td>-1</td>\n      <td>BxZmZa8nDJB</td>\n      <td>2080878590</td>\n      <td>976004499246853</td>\n      <td>2019-05-13 12:51:05.000</td>\n      <td>1</td>\n      <td>Wondering if they have milk in the menu 🤔</td>\n      <td>0</td>\n      <td>0</td>\n    </tr>\n    <tr>\n      <th>968</th>\n      <td>28371940</td>\n      <td>-1</td>\n      <td>BxYYuefjxBM</td>\n      <td>246709241</td>\n      <td>976004499246853</td>\n      <td>2019-05-13 01:32:23.000</td>\n      <td>1</td>\n      <td>Foodgasm 💗💗</td>\n      <td>0</td>\n      <td>0</td>\n    </tr>\n    <tr>\n      <th>988</th>\n      <td>28371995</td>\n      <td>-1</td>\n      <td>Bw3YQJeAvic</td>\n      <td>260162660</td>\n      <td>527503834011860</td>\n      <td>2019-04-30 05:56:05.000</td>\n      <td>2</td>\n      <td>My new look treat yourself not cheat yourself ...</td>\n      <td>0</td>\n      <td>0</td>\n    </tr>\n    <tr>\n      <th>1036</th>\n      <td>28371998</td>\n      <td>-1</td>\n      <td>BwZ-gAiAJZi</td>\n      <td>260162660</td>\n      <td>527503834011860</td>\n      <td>2019-04-18 19:50:19.000</td>\n      <td>1</td>\n      <td>Catch me on da 1’s &amp; 2’s Easter 🐣 Sunday perfo...</td>\n      <td>0</td>\n      <td>0</td>\n    </tr>\n    <tr>\n      <th>1040</th>\n      <td>28372002</td>\n      <td>-1</td>\n      <td>BtjH6snAOmE</td>\n      <td>260162660</td>\n      <td>527503834011860</td>\n      <td>2019-02-06 18:31:35.000</td>\n      <td>1</td>\n      <td>It’s a free weekend in Polk co everybody free ...</td>\n      <td>0</td>\n      <td>0</td>\n    </tr>\n  </tbody>\n</table>\n</div>"
     },
     "execution_count": 12,
     "metadata": {},
     "output_type": "execute_result"
    }
   ],
   "source": [
    "# What posts have the most and the least number of comments?\n",
    "most_comments = posts_chunk.sort_values(by='number_comments', ascending=False).head(10)\n",
    "least_comments = posts_chunk.sort_values(by=['number_comments', 'numbr_likes'], ascending=[True, True]).head(10)\n",
    "pd.concat([most_comments,least_comments], axis = 0)"
   ],
   "metadata": {
    "collapsed": false,
    "pycharm": {
     "name": "#%%\n"
    }
   }
  },
  {
   "cell_type": "code",
   "execution_count": 13,
   "outputs": [],
   "source": [
    "# How many posts include tagged locations, and how many do not? Show it using an appropriate chart and comment your results.\n",
    "no_location = posts_chunk['location_id'].isna().sum()\n",
    "tagged_location = posts_chunk['location_id'].count()"
   ],
   "metadata": {
    "collapsed": false,
    "pycharm": {
     "name": "#%%\n"
    }
   }
  },
  {
   "cell_type": "code",
   "execution_count": 14,
   "outputs": [
    {
     "data": {
      "text/plain": "<Figure size 432x288 with 1 Axes>",
      "image/png": "[encoded data removed]"
     },
     "metadata": {},
     "output_type": "display_data"
    }
   ],
   "source": [
    "df = pd.DataFrame({'posts': [no_location, tagged_location],\n",
    "                  'index': ['No Location', 'Tagged Location']})\n",
    "\n",
    "plot = df.plot.bar(x='index', y='posts', rot=0)"
   ],
   "metadata": {
    "collapsed": false,
    "pycharm": {
     "name": "#%%\n"
    }
   }
  },
  {
   "cell_type": "code",
   "execution_count": 15,
   "outputs": [],
   "source": [
    "# How many posts include only photos? How many also have videos?\n",
    "only_photos = posts_chunk.loc[posts_chunk['post_type'] == 1, 'post_type'].sum()\n",
    "video_multi = posts_chunk.loc[posts_chunk['post_type'] > 1, 'post_type'].sum()"
   ],
   "metadata": {
    "collapsed": false,
    "pycharm": {
     "name": "#%%\n"
    }
   }
  },
  {
   "cell_type": "code",
   "execution_count": 16,
   "outputs": [
    {
     "data": {
      "text/plain": "<Figure size 432x288 with 1 Axes>",
      "image/png": "[encoded data removed]"
     },
     "metadata": {},
     "output_type": "display_data"
    }
   ],
   "source": [
    "df = pd.DataFrame({'posts': [only_photos, video_multi],\n",
    "                   'index': ['Post type: Photo', 'Post type: Video or Multi']})\n",
    "\n",
    "plot = df.plot.bar(x='index', y='posts', rot=0)"
   ],
   "metadata": {
    "collapsed": false,
    "pycharm": {
     "name": "#%%\n"
    }
   }
  },
  {
   "cell_type": "code",
   "execution_count": 17,
   "outputs": [
    {
     "name": "stdout",
     "output_type": "stream",
     "text": [
      "business account percentage: 57.43474012913824\n",
      "not business account percentage: 42.56525987086176\n"
     ]
    }
   ],
   "source": [
    "# What's the percentage of business accounts vs non-business? What can you interpret regarding that percentage?\n",
    "\n",
    "business, not_business = profiles['is_business_account'].value_counts()\n",
    "not_business += profiles['is_business_account'].isnull().sum()\n",
    "print(\"business account percentage: {}\\nnot business account percentage: {}\".format((business/profiles['is_business_account'].size) * 100 , (not_business/profiles['is_business_account'].size) * 100))"
   ],
   "metadata": {
    "collapsed": false,
    "pycharm": {
     "name": "#%%\n"
    }
   }
  },
  {
   "cell_type": "markdown",
   "source": [
    "## **[RQ3] Now it's important to understand the most common times in which users publish their posts**"
   ],
   "metadata": {
    "collapsed": false,
    "pycharm": {
     "name": "#%% md\n"
    }
   }
  },
  {
   "cell_type": "code",
   "execution_count": 34,
   "outputs": [
    {
     "data": {
      "text/plain": "         times  number_posts_submitted\n7444  19:47:56                       3\n4846  14:53:01                       3\n5490  16:06:57                       3\n4610  14:24:03                       3\n51    00:08:18                       3\n...        ...                     ...\n3195  10:52:35                       1\n3194  10:52:19                       1\n3193  10:52:09                       1\n3192  10:52:00                       1\n9410  23:59:59                       1\n\n[9411 rows x 2 columns]",
      "text/html": "<div>\n<style scoped>\n    .dataframe tbody tr th:only-of-type {\n        vertical-align: middle;\n    }\n\n    .dataframe tbody tr th {\n        vertical-align: top;\n    }\n\n    .dataframe thead th {\n        text-align: right;\n    }\n</style>\n<table border=\"1\" class=\"dataframe\">\n  <thead>\n    <tr style=\"text-align: right;\">\n      <th></th>\n      <th>times</th>\n      <th>number_posts_submitted</th>\n    </tr>\n  </thead>\n  <tbody>\n    <tr>\n      <th>7444</th>\n      <td>19:47:56</td>\n      <td>3</td>\n    </tr>\n    <tr>\n      <th>4846</th>\n      <td>14:53:01</td>\n      <td>3</td>\n    </tr>\n    <tr>\n      <th>5490</th>\n      <td>16:06:57</td>\n      <td>3</td>\n    </tr>\n    <tr>\n      <th>4610</th>\n      <td>14:24:03</td>\n      <td>3</td>\n    </tr>\n    <tr>\n      <th>51</th>\n      <td>00:08:18</td>\n      <td>3</td>\n    </tr>\n    <tr>\n      <th>...</th>\n      <td>...</td>\n      <td>...</td>\n    </tr>\n    <tr>\n      <th>3195</th>\n      <td>10:52:35</td>\n      <td>1</td>\n    </tr>\n    <tr>\n      <th>3194</th>\n      <td>10:52:19</td>\n      <td>1</td>\n    </tr>\n    <tr>\n      <th>3193</th>\n      <td>10:52:09</td>\n      <td>1</td>\n    </tr>\n    <tr>\n      <th>3192</th>\n      <td>10:52:00</td>\n      <td>1</td>\n    </tr>\n    <tr>\n      <th>9410</th>\n      <td>23:59:59</td>\n      <td>1</td>\n    </tr>\n  </tbody>\n</table>\n<p>9411 rows × 2 columns</p>\n</div>"
     },
     "execution_count": 34,
     "metadata": {},
     "output_type": "execute_result"
    }
   ],
   "source": [
    "# What is the most common time in which users publish their posts?\n",
    "import datetime\n",
    "\n",
    "profiles['times'] = pd.to_datetime(posts_chunk['cts']).dt.strftime('%H:%M:%S')\n",
    "profiles.groupby(['times'])['times'].count().reset_index(name='number_posts_submitted').sort_values(['number_posts_submitted'], ascending=False)"
   ],
   "metadata": {
    "collapsed": false,
    "pycharm": {
     "name": "#%%\n"
    }
   }
  },
  {
   "cell_type": "code",
   "execution_count": null,
   "outputs": [],
   "source": [
    "# Create a function that receives a time intervals list as a parameter and returns a plot with the number of posts for each given interval.\n",
    "\n",
    "def plot_posts_per_time(interval_list):\n",
    "    cts = profiles.groupby(['times'])['times'].count().reset_index(name='number_posts_submitted').sort_values(['number_posts_submitted'], ascending=False)\n",
    "    cts['times'] = pd.to_datetime(cts['times'], format='%H:%M:%S').dt.time\n",
    "    times = list(zip(cts.times, cts.number_posts_submitted))\n",
    "    default_value = 0\n",
    "    keys = []\n",
    "    for initial_time, end_time in interval_list:\n",
    "        keys.append(initial_time + '-' + end_time)\n",
    "    posts_in_intervals = dict.fromkeys(keys,default_value)\n",
    "    for initial_time, end_time in interval_list:\n",
    "        for time, num_post in times:\n",
    "            if pd.to_datetime(initial_time).time() <= time <= pd.to_datetime(end_time).time():\n",
    "                posts_in_intervals[initial_time + '-' + end_time] += num_post\n",
    "\n",
    "    fig, ax = plt.subplots()\n",
    "    ax.barh(*zip(*posts_in_intervals.items()))\n",
    "    plt.show()"
   ],
   "metadata": {
    "collapsed": false,
    "pycharm": {
     "name": "#%%\n"
    }
   }
  },
  {
   "cell_type": "code",
   "execution_count": null,
   "outputs": [],
   "source": [
    "# Use the function that you created in the previous literal to plot the number of posts between the following time intervals:\n",
    "\n",
    "interval_list = [('06:00:00', '10:59:59'),('11:00:00', '13:59:59'), ('14:00:00', '16:59:59'), ('17:00:00', '19:59:59'), ('20:00:00', '23:59:59'), ('00:00:00', '02:59:59'), ('03:00:00','05:59:59')]\n",
    "\n",
    "plot_posts_per_time(interval_list)"
   ],
   "metadata": {
    "collapsed": false,
    "pycharm": {
     "name": "#%%\n"
    }
   }
  },
  {
   "cell_type": "markdown",
   "source": [
    "## **[RQ4] In most cases, we will not have a consistent dataset, and the one we are dealing with is not an exception (ex. in the given datasets, you may not find the information of the profiles for some of the posts). So let’s enhance our analysis.**"
   ],
   "metadata": {
    "collapsed": false,
    "pycharm": {
     "name": "#%% md\n"
    }
   }
  },
  {
   "cell_type": "code",
   "execution_count": null,
   "outputs": [],
   "source": [
    "# Write a function that, given a profile_id, will be able to return the posts that belong to the given profile_id.\n",
    "def get_posts_by_profile_id(profile_id):\n",
    "    return posts_chunk.query(\"profile_id == {}\".format(profile_id))\n",
    "\n",
    "get_posts_by_profile_id(260162660)"
   ],
   "metadata": {
    "collapsed": false,
    "pycharm": {
     "name": "#%%\n"
    }
   }
  },
  {
   "cell_type": "code",
   "execution_count": null,
   "outputs": [],
   "source": [
    "# Write another function that, given an input n (an integer), will return the posts that belong to the n top posted profiles (top n profiles that have posted the highest number of posts) that their data is available in the profile.csv using the previously written function.\n",
    "\n",
    "def post_of_n_top_posted_profiles(n):\n",
    "    profiles.groupby([\"profile_id\"], dropna=True)['n_posts'].sum()\n",
    "    n_top_profiles = profiles.sort_values(by='n_posts', ascending = False).head(n)\n",
    "    filter_list = n_top_profiles['profile_id']\n",
    "    return posts_chunk[posts_chunk['profile_id'].isin(filter_list)]"
   ],
   "metadata": {
    "collapsed": false,
    "pycharm": {
     "name": "#%%\n"
    }
   }
  },
  {
   "cell_type": "code",
   "execution_count": null,
   "outputs": [],
   "source": [
    "# What is the average number of \"likes\" and comments of the top 10 profiles with the highest number of posts which their information is available in profile.csv?\n",
    "\n",
    "posts_of_n_top_profiles = post_of_n_top_posted_profiles(10)\n",
    "print(\"Average number of likes: {}\\nAverage number of comments: {}\".format(posts_of_n_top_profiles['numbr_likes'].mean(), posts_of_n_top_profiles['number_comments'].mean()))"
   ],
   "metadata": {
    "collapsed": false,
    "pycharm": {
     "name": "#%%\n"
    }
   }
  },
  {
   "cell_type": "code",
   "execution_count": null,
   "outputs": [],
   "source": [
    "# Plot the number of posts that these top 10 profiles have sent on Instagram in the given interval in question RQ3. Interpret the resulting chart."
   ],
   "metadata": {
    "collapsed": false,
    "pycharm": {
     "name": "#%%\n"
    }
   }
  },
  {
   "cell_type": "code",
   "execution_count": 82,
   "outputs": [],
   "source": [
    "# import libraries\n",
    "import matplotlib.pyplot as plt\n",
    "import pandas as pd"
   ],
   "metadata": {
    "collapsed": false,
    "pycharm": {
     "name": "#%%\n"
    }
   }
  },
  {
   "cell_type": "code",
   "execution_count": 3,
   "outputs": [],
   "source": [
    "posts = pd.read_csv('../Datasets/instagram_posts.csv', sep=\"\\t\", iterator=True, chunksize = 1000)\n",
    "locations = pd.read_csv('../Datasets/instagram_locations.csv', sep='\\t', iterator=True, chunksize = 100)\n",
    "profiles = pd.read_csv('../Datasets/instagram_profiles.csv', sep='\\t', iterator=True, chunksize = 100)\n",
    "num_chunks = 10000"
   ],
   "metadata": {
    "collapsed": false,
    "pycharm": {
     "name": "#%%\n"
    }
   }
  },
  {
   "cell_type": "code",
   "execution_count": 4,
   "outputs": [],
   "source": [
    "posts_chunk = posts.get_chunk(num_chunks)\n",
    "locations = locations.get_chunk(num_chunks)\n",
    "profiles = profiles.get_chunk(num_chunks)"
   ],
   "metadata": {
    "collapsed": false,
    "pycharm": {
     "name": "#%%\n"
    }
   }
  },
  {
   "cell_type": "code",
   "execution_count": 4,
   "outputs": [
    {
     "data": {
      "text/plain": "            sid  sid_profile      post_id  profile_id      location_id  \\\n10000  28381208           -1  BpPPJe6FnO3  8135621357  173399483337248   \n10001  28381168           -1  BtoKk2Jlszk  3117914696  316620195072788   \n10002  28381166           -1  Bt-Fml-g4Vj  3117914696  316620195072788   \n10003  28381167           -1  BtsDooElK-x  3117914696  316620195072788   \n10004  28381165           -1  Bt_15oDgPNL  3117914696  316620195072788   \n\n                           cts  post_type  \\\n10000  2018-10-22 16:04:23.000          1   \n10001  2019-02-08 17:31:01.000          1   \n10002  2019-02-17 05:50:51.000          1   \n10003  2019-02-10 05:47:20.000          1   \n10004  2019-02-17 22:12:07.000          1   \n\n                                             description  numbr_likes  \\\n10000  Velkommen til Verksted Jord, vi har åpent tors...           37   \n10001  I get to paint this beautiful hair tomorrow, I...           59   \n10002  🎨✨Another one for @oneshothairawards #btconesh...           30   \n10003  Just a little taste of something new coming fr...           80   \n10004  Cool Balayage 🌪 @oneshothairawards #btconeshot...           43   \n\n       number_comments  \n10000                0  \n10001                1  \n10002                0  \n10003                2  \n10004                1  ",
      "text/html": "<div>\n<style scoped>\n    .dataframe tbody tr th:only-of-type {\n        vertical-align: middle;\n    }\n\n    .dataframe tbody tr th {\n        vertical-align: top;\n    }\n\n    .dataframe thead th {\n        text-align: right;\n    }\n</style>\n<table border=\"1\" class=\"dataframe\">\n  <thead>\n    <tr style=\"text-align: right;\">\n      <th></th>\n      <th>sid</th>\n      <th>sid_profile</th>\n      <th>post_id</th>\n      <th>profile_id</th>\n      <th>location_id</th>\n      <th>cts</th>\n      <th>post_type</th>\n      <th>description</th>\n      <th>numbr_likes</th>\n      <th>number_comments</th>\n    </tr>\n  </thead>\n  <tbody>\n    <tr>\n      <th>10000</th>\n      <td>28381208</td>\n      <td>-1</td>\n      <td>BpPPJe6FnO3</td>\n      <td>8135621357</td>\n      <td>173399483337248</td>\n      <td>2018-10-22 16:04:23.000</td>\n      <td>1</td>\n      <td>Velkommen til Verksted Jord, vi har åpent tors...</td>\n      <td>37</td>\n      <td>0</td>\n    </tr>\n    <tr>\n      <th>10001</th>\n      <td>28381168</td>\n      <td>-1</td>\n      <td>BtoKk2Jlszk</td>\n      <td>3117914696</td>\n      <td>316620195072788</td>\n      <td>2019-02-08 17:31:01.000</td>\n      <td>1</td>\n      <td>I get to paint this beautiful hair tomorrow, I...</td>\n      <td>59</td>\n      <td>1</td>\n    </tr>\n    <tr>\n      <th>10002</th>\n      <td>28381166</td>\n      <td>-1</td>\n      <td>Bt-Fml-g4Vj</td>\n      <td>3117914696</td>\n      <td>316620195072788</td>\n      <td>2019-02-17 05:50:51.000</td>\n      <td>1</td>\n      <td>🎨✨Another one for @oneshothairawards #btconesh...</td>\n      <td>30</td>\n      <td>0</td>\n    </tr>\n    <tr>\n      <th>10003</th>\n      <td>28381167</td>\n      <td>-1</td>\n      <td>BtsDooElK-x</td>\n      <td>3117914696</td>\n      <td>316620195072788</td>\n      <td>2019-02-10 05:47:20.000</td>\n      <td>1</td>\n      <td>Just a little taste of something new coming fr...</td>\n      <td>80</td>\n      <td>2</td>\n    </tr>\n    <tr>\n      <th>10004</th>\n      <td>28381165</td>\n      <td>-1</td>\n      <td>Bt_15oDgPNL</td>\n      <td>3117914696</td>\n      <td>316620195072788</td>\n      <td>2019-02-17 22:12:07.000</td>\n      <td>1</td>\n      <td>Cool Balayage 🌪 @oneshothairawards #btconeshot...</td>\n      <td>43</td>\n      <td>1</td>\n    </tr>\n  </tbody>\n</table>\n</div>"
     },
     "execution_count": 4,
     "metadata": {},
     "output_type": "execute_result"
    }
   ],
   "source": [
    "posts.get_chunk(5)"
   ],
   "metadata": {
    "collapsed": false,
    "pycharm": {
     "name": "#%%\n"
    }
   }
  },
  {
   "cell_type": "code",
   "execution_count": 5,
   "outputs": [
    {
     "name": "stdout",
     "output_type": "stream",
     "text": [
      "<class 'pandas.core.frame.DataFrame'>\n",
      "RangeIndex: 10000 entries, 0 to 9999\n",
      "Data columns (total 10 columns):\n",
      " #   Column           Non-Null Count  Dtype \n",
      "---  ------           --------------  ----- \n",
      " 0   sid              10000 non-null  int64 \n",
      " 1   sid_profile      10000 non-null  int64 \n",
      " 2   post_id          10000 non-null  object\n",
      " 3   profile_id       10000 non-null  int64 \n",
      " 4   location_id      10000 non-null  int64 \n",
      " 5   cts              10000 non-null  object\n",
      " 6   post_type        10000 non-null  int64 \n",
      " 7   description      9228 non-null   object\n",
      " 8   numbr_likes      10000 non-null  int64 \n",
      " 9   number_comments  10000 non-null  int64 \n",
      "dtypes: int64(7), object(3)\n",
      "memory usage: 781.4+ KB\n"
     ]
    }
   ],
   "source": [
    "posts_chunk.info()"
   ],
   "metadata": {
    "collapsed": false,
    "pycharm": {
     "name": "#%%\n"
    }
   }
  },
  {
   "cell_type": "code",
   "execution_count": 6,
   "outputs": [
    {
     "data": {
      "text/plain": "          sid                id                              name  \\\n10000  729105   254897701743394                      Tita Cecilia   \n10001  729107   113829812660344  Balneario Buenos Aires Maldonado   \n10002  729109          39247447                    Hotel Imperial   \n10003  729082  2309122105768753                     Cafe u Najády   \n10004  729088   884397744992253              Karya Binayak Temple   \n\n                   street     zip                                    city  \\\n10000     621 W Carson St   90745                      Carson, California   \n10001                 NaN     NaN  Barra De Maldonado, Maldonado, Uruguay   \n10002  Maršala Tita 124/3   51410                                 Abbazia   \n10003    Dr. Veselého 178  763 26                              Luhacovice   \n10004        Suryabinayak     NaN                         Bungmati, Nepal   \n\n       region  cd           phone  aj_exact_city_match  ...  \\\n10000     NaN  US  (424) 731-7218                False  ...   \n10001     NaN  UY             NaN                False  ...   \n10002     NaN  HR  +385(51)710444                False  ...   \n10003     NaN  CZ   +420608908777                False  ...   \n10004     NaN  NP      9841176079                False  ...   \n\n            dir_city_name       dir_city_slug dir_country_id dir_country_name  \\\n10000         West Carson         west-carson             US    United States   \n10001  Barra de Maldonado  barra-de-maldonado             UY          Uruguay   \n10002                 NaN                 NaN            NaN              NaN   \n10003          Luhacovice          luhacovice             CZ   Czech Republic   \n10004                 NaN                 NaN            NaN              NaN   \n\n              lat        lng primary_alias_on_fb  \\\n10000 -118.286770  33.831880                 NaN   \n10001  -54.800241 -34.885643                 NaN   \n10002   14.305749  45.334341                 NaN   \n10003   17.759249  49.105132                 NaN   \n10004   85.302375  27.631869                 NaN   \n\n                                   slug  \\\n10000                      tita-cecilia   \n10001  balneario-buenos-aires-maldonado   \n10002                    hotel-imperial   \n10003                     cafe-u-najady   \n10004              karya-binayak-temple   \n\n                                         website                      cts  \n10000               http://www.farmersagent.com/  2019-05-29 10:30:41.784  \n10001                                        NaN  2019-05-29 10:30:48.639  \n10002  http://www.remisens.com/en/hotel-imperial  2019-05-29 10:30:55.160  \n10003                                        NaN  2019-05-29 10:29:20.423  \n10004                                        NaN  2019-05-29 10:29:41.831  \n\n[5 rows x 23 columns]",
      "text/html": "<div>\n<style scoped>\n    .dataframe tbody tr th:only-of-type {\n        vertical-align: middle;\n    }\n\n    .dataframe tbody tr th {\n        vertical-align: top;\n    }\n\n    .dataframe thead th {\n        text-align: right;\n    }\n</style>\n<table border=\"1\" class=\"dataframe\">\n  <thead>\n    <tr style=\"text-align: right;\">\n      <th></th>\n      <th>sid</th>\n      <th>id</th>\n      <th>name</th>\n      <th>street</th>\n      <th>zip</th>\n      <th>city</th>\n      <th>region</th>\n      <th>cd</th>\n      <th>phone</th>\n      <th>aj_exact_city_match</th>\n      <th>...</th>\n      <th>dir_city_name</th>\n      <th>dir_city_slug</th>\n      <th>dir_country_id</th>\n      <th>dir_country_name</th>\n      <th>lat</th>\n      <th>lng</th>\n      <th>primary_alias_on_fb</th>\n      <th>slug</th>\n      <th>website</th>\n      <th>cts</th>\n    </tr>\n  </thead>\n  <tbody>\n    <tr>\n      <th>10000</th>\n      <td>729105</td>\n      <td>254897701743394</td>\n      <td>Tita Cecilia</td>\n      <td>621 W Carson St</td>\n      <td>90745</td>\n      <td>Carson, California</td>\n      <td>NaN</td>\n      <td>US</td>\n      <td>(424) 731-7218</td>\n      <td>False</td>\n      <td>...</td>\n      <td>West Carson</td>\n      <td>west-carson</td>\n      <td>US</td>\n      <td>United States</td>\n      <td>-118.286770</td>\n      <td>33.831880</td>\n      <td>NaN</td>\n      <td>tita-cecilia</td>\n      <td>http://www.farmersagent.com/</td>\n      <td>2019-05-29 10:30:41.784</td>\n    </tr>\n    <tr>\n      <th>10001</th>\n      <td>729107</td>\n      <td>113829812660344</td>\n      <td>Balneario Buenos Aires Maldonado</td>\n      <td>NaN</td>\n      <td>NaN</td>\n      <td>Barra De Maldonado, Maldonado, Uruguay</td>\n      <td>NaN</td>\n      <td>UY</td>\n      <td>NaN</td>\n      <td>False</td>\n      <td>...</td>\n      <td>Barra de Maldonado</td>\n      <td>barra-de-maldonado</td>\n      <td>UY</td>\n      <td>Uruguay</td>\n      <td>-54.800241</td>\n      <td>-34.885643</td>\n      <td>NaN</td>\n      <td>balneario-buenos-aires-maldonado</td>\n      <td>NaN</td>\n      <td>2019-05-29 10:30:48.639</td>\n    </tr>\n    <tr>\n      <th>10002</th>\n      <td>729109</td>\n      <td>39247447</td>\n      <td>Hotel Imperial</td>\n      <td>Maršala Tita 124/3</td>\n      <td>51410</td>\n      <td>Abbazia</td>\n      <td>NaN</td>\n      <td>HR</td>\n      <td>+385(51)710444</td>\n      <td>False</td>\n      <td>...</td>\n      <td>NaN</td>\n      <td>NaN</td>\n      <td>NaN</td>\n      <td>NaN</td>\n      <td>14.305749</td>\n      <td>45.334341</td>\n      <td>NaN</td>\n      <td>hotel-imperial</td>\n      <td>http://www.remisens.com/en/hotel-imperial</td>\n      <td>2019-05-29 10:30:55.160</td>\n    </tr>\n    <tr>\n      <th>10003</th>\n      <td>729082</td>\n      <td>2309122105768753</td>\n      <td>Cafe u Najády</td>\n      <td>Dr. Veselého 178</td>\n      <td>763 26</td>\n      <td>Luhacovice</td>\n      <td>NaN</td>\n      <td>CZ</td>\n      <td>+420608908777</td>\n      <td>False</td>\n      <td>...</td>\n      <td>Luhacovice</td>\n      <td>luhacovice</td>\n      <td>CZ</td>\n      <td>Czech Republic</td>\n      <td>17.759249</td>\n      <td>49.105132</td>\n      <td>NaN</td>\n      <td>cafe-u-najady</td>\n      <td>NaN</td>\n      <td>2019-05-29 10:29:20.423</td>\n    </tr>\n    <tr>\n      <th>10004</th>\n      <td>729088</td>\n      <td>884397744992253</td>\n      <td>Karya Binayak Temple</td>\n      <td>Suryabinayak</td>\n      <td>NaN</td>\n      <td>Bungmati, Nepal</td>\n      <td>NaN</td>\n      <td>NP</td>\n      <td>9841176079</td>\n      <td>False</td>\n      <td>...</td>\n      <td>NaN</td>\n      <td>NaN</td>\n      <td>NaN</td>\n      <td>NaN</td>\n      <td>85.302375</td>\n      <td>27.631869</td>\n      <td>NaN</td>\n      <td>karya-binayak-temple</td>\n      <td>NaN</td>\n      <td>2019-05-29 10:29:41.831</td>\n    </tr>\n  </tbody>\n</table>\n<p>5 rows × 23 columns</p>\n</div>"
     },
     "execution_count": 6,
     "metadata": {},
     "output_type": "execute_result"
    }
   ],
   "source": [
    "locations.get_chunk(5)"
   ],
   "metadata": {
    "collapsed": false,
    "pycharm": {
     "name": "#%%\n"
    }
   }
  },
  {
   "cell_type": "code",
   "execution_count": 7,
   "outputs": [
    {
     "name": "stdout",
     "output_type": "stream",
     "text": [
      "<class 'pandas.core.frame.DataFrame'>\n",
      "RangeIndex: 10000 entries, 0 to 9999\n",
      "Data columns (total 23 columns):\n",
      " #   Column                  Non-Null Count  Dtype  \n",
      "---  ------                  --------------  -----  \n",
      " 0   sid                     10000 non-null  int64  \n",
      " 1   id                      10000 non-null  int64  \n",
      " 2   name                    10000 non-null  object \n",
      " 3   street                  6859 non-null   object \n",
      " 4   zip                     6690 non-null   object \n",
      " 5   city                    9057 non-null   object \n",
      " 6   region                  5 non-null      object \n",
      " 7   cd                      9062 non-null   object \n",
      " 8   phone                   5664 non-null   object \n",
      " 9   aj_exact_city_match     9749 non-null   object \n",
      " 10  aj_exact_country_match  9749 non-null   object \n",
      " 11  blurb                   3793 non-null   object \n",
      " 12  dir_city_id             4767 non-null   object \n",
      " 13  dir_city_name           4767 non-null   object \n",
      " 14  dir_city_slug           4759 non-null   object \n",
      " 15  dir_country_id          4766 non-null   object \n",
      " 16  dir_country_name        4767 non-null   object \n",
      " 17  lat                     9930 non-null   float64\n",
      " 18  lng                     9930 non-null   float64\n",
      " 19  primary_alias_on_fb     3956 non-null   object \n",
      " 20  slug                    9118 non-null   object \n",
      " 21  website                 5709 non-null   object \n",
      " 22  cts                     10000 non-null  object \n",
      "dtypes: float64(2), int64(2), object(19)\n",
      "memory usage: 1.8+ MB\n"
     ]
    }
   ],
   "source": [
    "locations.info()"
   ],
   "metadata": {
    "collapsed": false,
    "pycharm": {
     "name": "#%%\n"
    }
   }
  },
  {
   "cell_type": "code",
   "execution_count": 8,
   "outputs": [
    {
     "data": {
      "text/plain": "           sid   profile_id    profile_name            firstname_lastname  \\\n10000  4195504    416365428     shytown1972                esteban toledo   \n10001  4195507  11586554930     nc_thoughts                   NC Thoughts   \n10002  4195508   3190180070  soflobeachblog                    SoFlo Girl   \n10003  4195513    372838856      mikeroma79  Mike | Real Estate | Fitness   \n10004  4195515     17486517       beardgang                     BEARDGANG   \n\n                                             description  following  \\\n10000                                                NaN        NaN   \n10001  Art 🖼 Poetry 💋 Photography 📸 \\nInvisible illne...      296.0   \n10002  Im just a New England girl who fell in love w/...     4241.0   \n10003  Arte Surfside/Corcoran Sunshine/Lic Sales Asso...      662.0   \n10004                                                NaN        NaN   \n\n       followers  n_posts                                                url  \\\n10000        NaN      NaN                                                NaN   \n10001       59.0     35.0  www.redbubble.com/people/ncthoughts?ref=more_w...   \n10002     2411.0    670.0                                                NaN   \n10003    11766.0    285.0                             fnx.grsm.io/mikeroma79   \n10004        NaN      NaN                                                NaN   \n\n                                 cts is_business_account  \n10000  2019-08-02 03:09:32.567 -0400                 NaN  \n10001  2019-08-02 03:09:39.203 -0400                True  \n10002  2019-08-02 03:09:56.635 -0400               False  \n10003  2019-08-02 03:10:17.542 -0400               False  \n10004  2019-08-02 03:10:32.345 -0400                 NaN  ",
      "text/html": "<div>\n<style scoped>\n    .dataframe tbody tr th:only-of-type {\n        vertical-align: middle;\n    }\n\n    .dataframe tbody tr th {\n        vertical-align: top;\n    }\n\n    .dataframe thead th {\n        text-align: right;\n    }\n</style>\n<table border=\"1\" class=\"dataframe\">\n  <thead>\n    <tr style=\"text-align: right;\">\n      <th></th>\n      <th>sid</th>\n      <th>profile_id</th>\n      <th>profile_name</th>\n      <th>firstname_lastname</th>\n      <th>description</th>\n      <th>following</th>\n      <th>followers</th>\n      <th>n_posts</th>\n      <th>url</th>\n      <th>cts</th>\n      <th>is_business_account</th>\n    </tr>\n  </thead>\n  <tbody>\n    <tr>\n      <th>10000</th>\n      <td>4195504</td>\n      <td>416365428</td>\n      <td>shytown1972</td>\n      <td>esteban toledo</td>\n      <td>NaN</td>\n      <td>NaN</td>\n      <td>NaN</td>\n      <td>NaN</td>\n      <td>NaN</td>\n      <td>2019-08-02 03:09:32.567 -0400</td>\n      <td>NaN</td>\n    </tr>\n    <tr>\n      <th>10001</th>\n      <td>4195507</td>\n      <td>11586554930</td>\n      <td>nc_thoughts</td>\n      <td>NC Thoughts</td>\n      <td>Art 🖼 Poetry 💋 Photography 📸 \\nInvisible illne...</td>\n      <td>296.0</td>\n      <td>59.0</td>\n      <td>35.0</td>\n      <td>www.redbubble.com/people/ncthoughts?ref=more_w...</td>\n      <td>2019-08-02 03:09:39.203 -0400</td>\n      <td>True</td>\n    </tr>\n    <tr>\n      <th>10002</th>\n      <td>4195508</td>\n      <td>3190180070</td>\n      <td>soflobeachblog</td>\n      <td>SoFlo Girl</td>\n      <td>Im just a New England girl who fell in love w/...</td>\n      <td>4241.0</td>\n      <td>2411.0</td>\n      <td>670.0</td>\n      <td>NaN</td>\n      <td>2019-08-02 03:09:56.635 -0400</td>\n      <td>False</td>\n    </tr>\n    <tr>\n      <th>10003</th>\n      <td>4195513</td>\n      <td>372838856</td>\n      <td>mikeroma79</td>\n      <td>Mike | Real Estate | Fitness</td>\n      <td>Arte Surfside/Corcoran Sunshine/Lic Sales Asso...</td>\n      <td>662.0</td>\n      <td>11766.0</td>\n      <td>285.0</td>\n      <td>fnx.grsm.io/mikeroma79</td>\n      <td>2019-08-02 03:10:17.542 -0400</td>\n      <td>False</td>\n    </tr>\n    <tr>\n      <th>10004</th>\n      <td>4195515</td>\n      <td>17486517</td>\n      <td>beardgang</td>\n      <td>BEARDGANG</td>\n      <td>NaN</td>\n      <td>NaN</td>\n      <td>NaN</td>\n      <td>NaN</td>\n      <td>NaN</td>\n      <td>2019-08-02 03:10:32.345 -0400</td>\n      <td>NaN</td>\n    </tr>\n  </tbody>\n</table>\n</div>"
     },
     "execution_count": 8,
     "metadata": {},
     "output_type": "execute_result"
    }
   ],
   "source": [
    "profiles.get_chunk(5)"
   ],
   "metadata": {
    "collapsed": false,
    "pycharm": {
     "name": "#%%\n"
    }
   }
  },
  {
   "cell_type": "code",
   "execution_count": 9,
   "outputs": [
    {
     "name": "stdout",
     "output_type": "stream",
     "text": [
      "<class 'pandas.core.frame.DataFrame'>\n",
      "RangeIndex: 10000 entries, 0 to 9999\n",
      "Data columns (total 11 columns):\n",
      " #   Column               Non-Null Count  Dtype  \n",
      "---  ------               --------------  -----  \n",
      " 0   sid                  10000 non-null  int64  \n",
      " 1   profile_id           10000 non-null  int64  \n",
      " 2   profile_name         10000 non-null  object \n",
      " 3   firstname_lastname   9571 non-null   object \n",
      " 4   description          5096 non-null   object \n",
      " 5   following            6379 non-null   float64\n",
      " 6   followers            6379 non-null   float64\n",
      " 7   n_posts              6379 non-null   float64\n",
      " 8   url                  2325 non-null   object \n",
      " 9   cts                  9999 non-null   object \n",
      " 10  is_business_account  6379 non-null   object \n",
      "dtypes: float64(3), int64(2), object(6)\n",
      "memory usage: 859.5+ KB\n"
     ]
    }
   ],
   "source": [
    "profiles.info()"
   ],
   "metadata": {
    "collapsed": false,
    "pycharm": {
     "name": "#%%\n"
    }
   }
  },
  {
   "cell_type": "code",
   "execution_count": 25,
   "outputs": [
    {
     "name": "stdout",
     "output_type": "stream",
     "text": [
      "Unique post IDs: 10000\n",
      "Unique location cities: 118541\n",
      "Unique profile names: 4508180\n"
     ]
    }
   ],
   "source": [
    "\n",
    "num_post_ids, num_loc_cities, num_profiles_names = posts_chunk['post_id'].nunique(), locations['city'].nunique(), profiles['profile_name'].nunique()\n",
    "\n",
    "print(\"Unique post IDs: {}\".format(num_post_ids))\n",
    "print(\"Unique location cities: {}\".format(num_loc_cities))\n",
    "print(\"Unique profile names: {}\".format(num_profiles_names))"
   ],
   "metadata": {
    "collapsed": false,
    "pycharm": {
     "name": "#%%\n"
    }
   }
  },
  {
   "cell_type": "markdown",
   "source": [
    "## **[RQ2] Simple Insights**"
   ],
   "metadata": {
    "collapsed": false,
    "pycharm": {
     "name": "#%% md\n"
    }
   }
  },
  {
   "cell_type": "code",
   "execution_count": 35,
   "outputs": [
    {
     "data": {
      "text/plain": "             sid    profile_id         profile_name  \\\n3990313  3661552  1.996648e+08           jasem33312   \n2571453  3288809  8.563367e+09            koenigpic   \n4338921  3970193  1.273455e+09           rudyanto62   \n3942129  3621669  9.813508e+06          hometown_ni   \n4219642  3851869  1.607309e+09  dwfitfiber_thailand   \n...          ...           ...                  ...   \n4509575  4184448  2.438073e+08            not_omeed   \n4509577  4184452  6.567796e+08             shak._n5   \n4509582  4184469  1.340704e+07        jornvlaeminck   \n4509583  4184470  6.007354e+09              s_degol   \n4509585  4184511  2.088094e+09        arnaubassols_   \n\n                 firstname_lastname  \\\n3990313                  jasem33312   \n2571453           Helperwait Studio   \n4338921                Rudyanto 王耀祝   \n3942129         AngelsCowboysLakers   \n4219642  เห็นผลตั้งแต่เซ็ตแรกท้าลอง   \n...                             ...   \n4509575                       أوميد   \n4509577              Shakil Hussain   \n4509582              Jorn Vlaeminck   \n4509583                 Sanne Degol   \n4509585        Arnau Bassols Noguer   \n\n                                               description  following  \\\n3990313                                                NaN        2.0   \n2571453                       Веб сайты от идеи до запуска     4538.0   \n4338921                                                NaN      164.0   \n3942129  All about live & let live. Peace & Harmony. La...     7488.0   \n4219642  ✿รับตัวแทนรายได้ดีมาก\\n🏧 KTB l SCB l KBANK | B...     7490.0   \n...                                                    ...        ...   \n4509575                                                NaN        NaN   \n4509577                                                NaN        NaN   \n4509582                                                NaN        NaN   \n4509583                                                NaN        NaN   \n4509585                                                NaN        NaN   \n\n         followers   n_posts                   url  \\\n3990313    82049.0  183730.0                   NaN   \n2571453      675.0  142428.0  vk.com/ru.helperwait   \n4338921     1693.0  126340.0                   NaN   \n3942129     1755.0  125220.0                   NaN   \n4219642    44951.0  117262.0        bit.ly/2GdIYJl   \n...            ...       ...                   ...   \n4509575        NaN       NaN                   NaN   \n4509577        NaN       NaN                   NaN   \n4509582        NaN       NaN                   NaN   \n4509583        NaN       NaN                   NaN   \n4509585        NaN       NaN                   NaN   \n\n                                   cts is_business_account times  \n3990313  2019-06-30 19:14:19.780 -0400               False   NaN  \n2571453  2019-05-07 00:14:06.799 -0400                True   NaN  \n4338921  2019-07-15 10:00:51.171 -0400               False   NaN  \n3942129  2019-06-27 02:49:38.140 -0400               False   NaN  \n4219642  2019-07-13 02:10:07.317 -0400                True   NaN  \n...                                ...                 ...   ...  \n4509575  2019-08-01 14:39:06.271 -0400                 NaN   NaN  \n4509577  2019-08-01 14:39:23.911 -0400                 NaN   NaN  \n4509582  2019-08-01 14:40:41.628 -0400                 NaN   NaN  \n4509583  2019-08-01 14:40:42.983 -0400                 NaN   NaN  \n4509585  2019-08-01 14:42:30.055 -0400                 NaN   NaN  \n\n[4509586 rows x 12 columns]",
      "text/html": "<div>\n<style scoped>\n    .dataframe tbody tr th:only-of-type {\n        vertical-align: middle;\n    }\n\n    .dataframe tbody tr th {\n        vertical-align: top;\n    }\n\n    .dataframe thead th {\n        text-align: right;\n    }\n</style>\n<table border=\"1\" class=\"dataframe\">\n  <thead>\n    <tr style=\"text-align: right;\">\n      <th></th>\n      <th>sid</th>\n      <th>profile_id</th>\n      <th>profile_name</th>\n      <th>firstname_lastname</th>\n      <th>description</th>\n      <th>following</th>\n      <th>followers</th>\n      <th>n_posts</th>\n      <th>url</th>\n      <th>cts</th>\n      <th>is_business_account</th>\n      <th>times</th>\n    </tr>\n  </thead>\n  <tbody>\n    <tr>\n      <th>3990313</th>\n      <td>3661552</td>\n      <td>1.996648e+08</td>\n      <td>jasem33312</td>\n      <td>jasem33312</td>\n      <td>NaN</td>\n      <td>2.0</td>\n      <td>82049.0</td>\n      <td>183730.0</td>\n      <td>NaN</td>\n      <td>2019-06-30 19:14:19.780 -0400</td>\n      <td>False</td>\n      <td>NaN</td>\n    </tr>\n    <tr>\n      <th>2571453</th>\n      <td>3288809</td>\n      <td>8.563367e+09</td>\n      <td>koenigpic</td>\n      <td>Helperwait Studio</td>\n      <td>Веб сайты от идеи до запуска</td>\n      <td>4538.0</td>\n      <td>675.0</td>\n      <td>142428.0</td>\n      <td>vk.com/ru.helperwait</td>\n      <td>2019-05-07 00:14:06.799 -0400</td>\n      <td>True</td>\n      <td>NaN</td>\n    </tr>\n    <tr>\n      <th>4338921</th>\n      <td>3970193</td>\n      <td>1.273455e+09</td>\n      <td>rudyanto62</td>\n      <td>Rudyanto 王耀祝</td>\n      <td>NaN</td>\n      <td>164.0</td>\n      <td>1693.0</td>\n      <td>126340.0</td>\n      <td>NaN</td>\n      <td>2019-07-15 10:00:51.171 -0400</td>\n      <td>False</td>\n      <td>NaN</td>\n    </tr>\n    <tr>\n      <th>3942129</th>\n      <td>3621669</td>\n      <td>9.813508e+06</td>\n      <td>hometown_ni</td>\n      <td>AngelsCowboysLakers</td>\n      <td>All about live &amp; let live. Peace &amp; Harmony. La...</td>\n      <td>7488.0</td>\n      <td>1755.0</td>\n      <td>125220.0</td>\n      <td>NaN</td>\n      <td>2019-06-27 02:49:38.140 -0400</td>\n      <td>False</td>\n      <td>NaN</td>\n    </tr>\n    <tr>\n      <th>4219642</th>\n      <td>3851869</td>\n      <td>1.607309e+09</td>\n      <td>dwfitfiber_thailand</td>\n      <td>เห็นผลตั้งแต่เซ็ตแรกท้าลอง</td>\n      <td>✿รับตัวแทนรายได้ดีมาก\\n🏧 KTB l SCB l KBANK | B...</td>\n      <td>7490.0</td>\n      <td>44951.0</td>\n      <td>117262.0</td>\n      <td>bit.ly/2GdIYJl</td>\n      <td>2019-07-13 02:10:07.317 -0400</td>\n      <td>True</td>\n      <td>NaN</td>\n    </tr>\n    <tr>\n      <th>...</th>\n      <td>...</td>\n      <td>...</td>\n      <td>...</td>\n      <td>...</td>\n      <td>...</td>\n      <td>...</td>\n      <td>...</td>\n      <td>...</td>\n      <td>...</td>\n      <td>...</td>\n      <td>...</td>\n      <td>...</td>\n    </tr>\n    <tr>\n      <th>4509575</th>\n      <td>4184448</td>\n      <td>2.438073e+08</td>\n      <td>not_omeed</td>\n      <td>أوميد</td>\n      <td>NaN</td>\n      <td>NaN</td>\n      <td>NaN</td>\n      <td>NaN</td>\n      <td>NaN</td>\n      <td>2019-08-01 14:39:06.271 -0400</td>\n      <td>NaN</td>\n      <td>NaN</td>\n    </tr>\n    <tr>\n      <th>4509577</th>\n      <td>4184452</td>\n      <td>6.567796e+08</td>\n      <td>shak._n5</td>\n      <td>Shakil Hussain</td>\n      <td>NaN</td>\n      <td>NaN</td>\n      <td>NaN</td>\n      <td>NaN</td>\n      <td>NaN</td>\n      <td>2019-08-01 14:39:23.911 -0400</td>\n      <td>NaN</td>\n      <td>NaN</td>\n    </tr>\n    <tr>\n      <th>4509582</th>\n      <td>4184469</td>\n      <td>1.340704e+07</td>\n      <td>jornvlaeminck</td>\n      <td>Jorn Vlaeminck</td>\n      <td>NaN</td>\n      <td>NaN</td>\n      <td>NaN</td>\n      <td>NaN</td>\n      <td>NaN</td>\n      <td>2019-08-01 14:40:41.628 -0400</td>\n      <td>NaN</td>\n      <td>NaN</td>\n    </tr>\n    <tr>\n      <th>4509583</th>\n      <td>4184470</td>\n      <td>6.007354e+09</td>\n      <td>s_degol</td>\n      <td>Sanne Degol</td>\n      <td>NaN</td>\n      <td>NaN</td>\n      <td>NaN</td>\n      <td>NaN</td>\n      <td>NaN</td>\n      <td>2019-08-01 14:40:42.983 -0400</td>\n      <td>NaN</td>\n      <td>NaN</td>\n    </tr>\n    <tr>\n      <th>4509585</th>\n      <td>4184511</td>\n      <td>2.088094e+09</td>\n      <td>arnaubassols_</td>\n      <td>Arnau Bassols Noguer</td>\n      <td>NaN</td>\n      <td>NaN</td>\n      <td>NaN</td>\n      <td>NaN</td>\n      <td>NaN</td>\n      <td>2019-08-01 14:42:30.055 -0400</td>\n      <td>NaN</td>\n      <td>NaN</td>\n    </tr>\n  </tbody>\n</table>\n<p>4509586 rows × 12 columns</p>\n</div>"
     },
     "execution_count": 35,
     "metadata": {},
     "output_type": "execute_result"
    }
   ],
   "source": [
    "# Plot the number of posts for each profile in descending order\n",
    "profiles.groupby([\"profile_id\"], dropna=True)['n_posts'].sum()\n",
    "profiles.sort_values(by='n_posts', ascending = False)"
   ],
   "metadata": {
    "collapsed": false,
    "pycharm": {
     "name": "#%%\n"
    }
   }
  },
  {
   "cell_type": "code",
   "execution_count": 28,
   "outputs": [
    {
     "data": {
      "text/plain": "           sid  sid_profile      post_id   profile_id       location_id  \\\n5633  27386281      3398819  BgkKMt4hAW7   2955286544        1012854533   \n3319  28374324       396283  BfrIDlygv1G    217723373         548438207   \n9733  28380873           -1  BxCwkRuAKgi    238711109  2229985840579401   \n4786  28375819           -1  BxDZBh-nMLT   3127385206         347539836   \n2659  25528599           -1  BtB0CP-nAIc    373344088         751708427   \n4417  28375403        87675  BxuReBznXnw   7629888318   127562401356728   \n5471  28376593           -1  BJs2p4ZBYn3    335410451         568572977   \n2660  28374117       548786  Bvo_FBVgypy    208502444         751708427   \n567   28371656           -1  BfymkS7nVN8     20935109         264423834   \n5805  28376800           -1  BaWZhdrnL2n    530835252         274141210   \n114   28371044           -1  BxmT17KFzWR  13138343586         571655810   \n276   28371231           -1  BwAAECnHqcA   4238893089          96914970   \n315   28371254           -1  BxYSzAVhEzg    305906318   556799621322049   \n695   26702250           -1  Bx3O2Ugh9ic  13470877248         283264221   \n912   28371890           -1  Bvs_QPSp55Z   2266963628  1494970777267026   \n967   28371939           -1  BxZmZa8nDJB   2080878590   976004499246853   \n968   28371940           -1  BxYYuefjxBM    246709241   976004499246853   \n988   28371995           -1  Bw3YQJeAvic    260162660   527503834011860   \n1036  28371998           -1  BwZ-gAiAJZi    260162660   527503834011860   \n1040  28372002           -1  BtjH6snAOmE    260162660   527503834011860   \n\n                          cts  post_type  \\\n5633  2018-03-21 01:22:38.000          1   \n3319  2018-02-26 21:47:12.000          1   \n9733  2019-05-04 15:57:25.000          1   \n4786  2019-05-04 21:50:56.000          1   \n2659  2019-01-24 20:02:55.000          1   \n4417  2019-05-21 13:32:16.000          1   \n5471  2016-08-29 19:22:57.000          1   \n2660  2019-03-30 18:12:35.000          1   \n567   2018-03-01 19:28:30.000          1   \n5805  2017-10-17 14:58:48.000          1   \n114   2019-05-18 11:19:05.000          1   \n276   2019-04-08 17:43:43.000          1   \n315   2019-05-13 00:40:35.000          1   \n695   2019-05-25 01:02:32.000          1   \n912   2019-04-01 08:31:04.000          1   \n967   2019-05-13 12:51:05.000          1   \n968   2019-05-13 01:32:23.000          1   \n988   2019-04-30 05:56:05.000          2   \n1036  2019-04-18 19:50:19.000          1   \n1040  2019-02-06 18:31:35.000          1   \n\n                                            description  numbr_likes  \\\n5633  Доброе утро, красотки 💃🏻\\nУ нас отличная новос...          302   \n3319  Despite a steady downpour, thousands flocked t...        23425   \n9733  🎉🎉GIVEAWAY🎉🎉\\n.\\n@yifangtea.sg has launched th...          641   \n4786  Prévias feitas! Agora é comer, descansar e esp...        60736   \n2659  I'm really happy for the opportunity to play i...        24232   \n4417  🍦🍨🍦Ice cream giveaway!!🍦🍨🍦\\nTo kick off summer...          432   \n5471                        On rigole bien quand même💃🏼       106113   \n2660  Confirmation that Huddersfield are relegated f...       123678   \n567   NAME MY SHOW!!!Awhile back, I asked you guys w...        20848   \n5805  Algún día debería hacer una quedada 🤤🤤\\nCuando...        67342   \n114      La natura incontaminata \\nLa creazione divina🔝            0   \n276                                                 NaN            0   \n315                                                 NaN            0   \n695   Cruach Ardrain & Beinn Tulaichean - 8 & 9 out ...            0   \n912                                                  #🤪            0   \n967           Wondering if they have milk in the menu 🤔            0   \n968                                         Foodgasm 💗💗            0   \n988   My new look treat yourself not cheat yourself ...            0   \n1036  Catch me on da 1’s & 2’s Easter 🐣 Sunday perfo...            0   \n1040  It’s a free weekend in Polk co everybody free ...            0   \n\n      number_comments  \n5633            13983  \n3319             1340  \n9733             1012  \n4786              879  \n2659              792  \n4417              642  \n5471              545  \n2660              484  \n567               467  \n5805              398  \n114                 0  \n276                 0  \n315                 0  \n695                 0  \n912                 0  \n967                 0  \n968                 0  \n988                 0  \n1036                0  \n1040                0  ",
      "text/html": "<div>\n<style scoped>\n    .dataframe tbody tr th:only-of-type {\n        vertical-align: middle;\n    }\n\n    .dataframe tbody tr th {\n        vertical-align: top;\n    }\n\n    .dataframe thead th {\n        text-align: right;\n    }\n</style>\n<table border=\"1\" class=\"dataframe\">\n  <thead>\n    <tr style=\"text-align: right;\">\n      <th></th>\n      <th>sid</th>\n      <th>sid_profile</th>\n      <th>post_id</th>\n      <th>profile_id</th>\n      <th>location_id</th>\n      <th>cts</th>\n      <th>post_type</th>\n      <th>description</th>\n      <th>numbr_likes</th>\n      <th>number_comments</th>\n    </tr>\n  </thead>\n  <tbody>\n    <tr>\n      <th>5633</th>\n      <td>27386281</td>\n      <td>3398819</td>\n      <td>BgkKMt4hAW7</td>\n      <td>2955286544</td>\n      <td>1012854533</td>\n      <td>2018-03-21 01:22:38.000</td>\n      <td>1</td>\n      <td>Доброе утро, красотки 💃🏻\\nУ нас отличная новос...</td>\n      <td>302</td>\n      <td>13983</td>\n    </tr>\n    <tr>\n      <th>3319</th>\n      <td>28374324</td>\n      <td>396283</td>\n      <td>BfrIDlygv1G</td>\n      <td>217723373</td>\n      <td>548438207</td>\n      <td>2018-02-26 21:47:12.000</td>\n      <td>1</td>\n      <td>Despite a steady downpour, thousands flocked t...</td>\n      <td>23425</td>\n      <td>1340</td>\n    </tr>\n    <tr>\n      <th>9733</th>\n      <td>28380873</td>\n      <td>-1</td>\n      <td>BxCwkRuAKgi</td>\n      <td>238711109</td>\n      <td>2229985840579401</td>\n      <td>2019-05-04 15:57:25.000</td>\n      <td>1</td>\n      <td>🎉🎉GIVEAWAY🎉🎉\\n.\\n@yifangtea.sg has launched th...</td>\n      <td>641</td>\n      <td>1012</td>\n    </tr>\n    <tr>\n      <th>4786</th>\n      <td>28375819</td>\n      <td>-1</td>\n      <td>BxDZBh-nMLT</td>\n      <td>3127385206</td>\n      <td>347539836</td>\n      <td>2019-05-04 21:50:56.000</td>\n      <td>1</td>\n      <td>Prévias feitas! Agora é comer, descansar e esp...</td>\n      <td>60736</td>\n      <td>879</td>\n    </tr>\n    <tr>\n      <th>2659</th>\n      <td>25528599</td>\n      <td>-1</td>\n      <td>BtB0CP-nAIc</td>\n      <td>373344088</td>\n      <td>751708427</td>\n      <td>2019-01-24 20:02:55.000</td>\n      <td>1</td>\n      <td>I'm really happy for the opportunity to play i...</td>\n      <td>24232</td>\n      <td>792</td>\n    </tr>\n    <tr>\n      <th>4417</th>\n      <td>28375403</td>\n      <td>87675</td>\n      <td>BxuReBznXnw</td>\n      <td>7629888318</td>\n      <td>127562401356728</td>\n      <td>2019-05-21 13:32:16.000</td>\n      <td>1</td>\n      <td>🍦🍨🍦Ice cream giveaway!!🍦🍨🍦\\nTo kick off summer...</td>\n      <td>432</td>\n      <td>642</td>\n    </tr>\n    <tr>\n      <th>5471</th>\n      <td>28376593</td>\n      <td>-1</td>\n      <td>BJs2p4ZBYn3</td>\n      <td>335410451</td>\n      <td>568572977</td>\n      <td>2016-08-29 19:22:57.000</td>\n      <td>1</td>\n      <td>On rigole bien quand même💃🏼</td>\n      <td>106113</td>\n      <td>545</td>\n    </tr>\n    <tr>\n      <th>2660</th>\n      <td>28374117</td>\n      <td>548786</td>\n      <td>Bvo_FBVgypy</td>\n      <td>208502444</td>\n      <td>751708427</td>\n      <td>2019-03-30 18:12:35.000</td>\n      <td>1</td>\n      <td>Confirmation that Huddersfield are relegated f...</td>\n      <td>123678</td>\n      <td>484</td>\n    </tr>\n    <tr>\n      <th>567</th>\n      <td>28371656</td>\n      <td>-1</td>\n      <td>BfymkS7nVN8</td>\n      <td>20935109</td>\n      <td>264423834</td>\n      <td>2018-03-01 19:28:30.000</td>\n      <td>1</td>\n      <td>NAME MY SHOW!!!Awhile back, I asked you guys w...</td>\n      <td>20848</td>\n      <td>467</td>\n    </tr>\n    <tr>\n      <th>5805</th>\n      <td>28376800</td>\n      <td>-1</td>\n      <td>BaWZhdrnL2n</td>\n      <td>530835252</td>\n      <td>274141210</td>\n      <td>2017-10-17 14:58:48.000</td>\n      <td>1</td>\n      <td>Algún día debería hacer una quedada 🤤🤤\\nCuando...</td>\n      <td>67342</td>\n      <td>398</td>\n    </tr>\n    <tr>\n      <th>114</th>\n      <td>28371044</td>\n      <td>-1</td>\n      <td>BxmT17KFzWR</td>\n      <td>13138343586</td>\n      <td>571655810</td>\n      <td>2019-05-18 11:19:05.000</td>\n      <td>1</td>\n      <td>La natura incontaminata \\nLa creazione divina🔝</td>\n      <td>0</td>\n      <td>0</td>\n    </tr>\n    <tr>\n      <th>276</th>\n      <td>28371231</td>\n      <td>-1</td>\n      <td>BwAAECnHqcA</td>\n      <td>4238893089</td>\n      <td>96914970</td>\n      <td>2019-04-08 17:43:43.000</td>\n      <td>1</td>\n      <td>NaN</td>\n      <td>0</td>\n      <td>0</td>\n    </tr>\n    <tr>\n      <th>315</th>\n      <td>28371254</td>\n      <td>-1</td>\n      <td>BxYSzAVhEzg</td>\n      <td>305906318</td>\n      <td>556799621322049</td>\n      <td>2019-05-13 00:40:35.000</td>\n      <td>1</td>\n      <td>NaN</td>\n      <td>0</td>\n      <td>0</td>\n    </tr>\n    <tr>\n      <th>695</th>\n      <td>26702250</td>\n      <td>-1</td>\n      <td>Bx3O2Ugh9ic</td>\n      <td>13470877248</td>\n      <td>283264221</td>\n      <td>2019-05-25 01:02:32.000</td>\n      <td>1</td>\n      <td>Cruach Ardrain &amp; Beinn Tulaichean - 8 &amp; 9 out ...</td>\n      <td>0</td>\n      <td>0</td>\n    </tr>\n    <tr>\n      <th>912</th>\n      <td>28371890</td>\n      <td>-1</td>\n      <td>Bvs_QPSp55Z</td>\n      <td>2266963628</td>\n      <td>1494970777267026</td>\n      <td>2019-04-01 08:31:04.000</td>\n      <td>1</td>\n      <td>#🤪</td>\n      <td>0</td>\n      <td>0</td>\n    </tr>\n    <tr>\n      <th>967</th>\n      <td>28371939</td>\n      <td>-1</td>\n      <td>BxZmZa8nDJB</td>\n      <td>2080878590</td>\n      <td>976004499246853</td>\n      <td>2019-05-13 12:51:05.000</td>\n      <td>1</td>\n      <td>Wondering if they have milk in the menu 🤔</td>\n      <td>0</td>\n      <td>0</td>\n    </tr>\n    <tr>\n      <th>968</th>\n      <td>28371940</td>\n      <td>-1</td>\n      <td>BxYYuefjxBM</td>\n      <td>246709241</td>\n      <td>976004499246853</td>\n      <td>2019-05-13 01:32:23.000</td>\n      <td>1</td>\n      <td>Foodgasm 💗💗</td>\n      <td>0</td>\n      <td>0</td>\n    </tr>\n    <tr>\n      <th>988</th>\n      <td>28371995</td>\n      <td>-1</td>\n      <td>Bw3YQJeAvic</td>\n      <td>260162660</td>\n      <td>527503834011860</td>\n      <td>2019-04-30 05:56:05.000</td>\n      <td>2</td>\n      <td>My new look treat yourself not cheat yourself ...</td>\n      <td>0</td>\n      <td>0</td>\n    </tr>\n    <tr>\n      <th>1036</th>\n      <td>28371998</td>\n      <td>-1</td>\n      <td>BwZ-gAiAJZi</td>\n      <td>260162660</td>\n      <td>527503834011860</td>\n      <td>2019-04-18 19:50:19.000</td>\n      <td>1</td>\n      <td>Catch me on da 1’s &amp; 2’s Easter 🐣 Sunday perfo...</td>\n      <td>0</td>\n      <td>0</td>\n    </tr>\n    <tr>\n      <th>1040</th>\n      <td>28372002</td>\n      <td>-1</td>\n      <td>BtjH6snAOmE</td>\n      <td>260162660</td>\n      <td>527503834011860</td>\n      <td>2019-02-06 18:31:35.000</td>\n      <td>1</td>\n      <td>It’s a free weekend in Polk co everybody free ...</td>\n      <td>0</td>\n      <td>0</td>\n    </tr>\n  </tbody>\n</table>\n</div>"
     },
     "execution_count": 28,
     "metadata": {},
     "output_type": "execute_result"
    }
   ],
   "source": [
    "# What posts have the most and the least number of comments?\n",
    "most_comments = posts_chunk.sort_values(by='number_comments', ascending=False).head(10)\n",
    "least_comments = posts_chunk.sort_values(by=['number_comments', 'numbr_likes'], ascending=[True, True]).head(10)\n",
    "pd.concat([most_comments,least_comments], axis = 0)"
   ],
   "metadata": {
    "collapsed": false,
    "pycharm": {
     "name": "#%%\n"
    }
   }
  },
  {
   "cell_type": "code",
   "execution_count": 29,
   "outputs": [],
   "source": [
    "# How many posts include tagged locations, and how many do not? Show it using an appropriate chart and comment your results.\n",
    "no_location = posts_chunk['location_id'].isna().sum()\n",
    "tagged_location = posts_chunk['location_id'].count()"
   ],
   "metadata": {
    "collapsed": false,
    "pycharm": {
     "name": "#%%\n"
    }
   }
  },
  {
   "cell_type": "code",
   "execution_count": 30,
   "outputs": [
    {
     "data": {
      "text/plain": "<Figure size 432x288 with 1 Axes>",
      "image/png": "[encoded data removed]"
     },
     "metadata": {},
     "output_type": "display_data"
    }
   ],
   "source": [
    "df = pd.DataFrame({'posts': [no_location, tagged_location],\n",
    "                  'index': ['No Location', 'Tagged Location']})\n",
    "\n",
    "plot = df.plot.bar(x='index', y='posts', rot=0)"
   ],
   "metadata": {
    "collapsed": false,
    "pycharm": {
     "name": "#%%\n"
    }
   }
  },
  {
   "cell_type": "code",
   "execution_count": 31,
   "outputs": [],
   "source": [
    "# How many posts include only photos? How many also have videos?\n",
    "only_photos = posts_chunk.loc[posts_chunk['post_type'] == 1, 'post_type'].sum()\n",
    "video_multi = posts_chunk.loc[posts_chunk['post_type'] > 1, 'post_type'].sum()"
   ],
   "metadata": {
    "collapsed": false,
    "pycharm": {
     "name": "#%%\n"
    }
   }
  },
  {
   "cell_type": "code",
   "execution_count": 32,
   "outputs": [
    {
     "data": {
      "text/plain": "<Figure size 432x288 with 1 Axes>",
      "image/png": "[encoded data removed]"
     },
     "metadata": {},
     "output_type": "display_data"
    }
   ],
   "source": [
    "df = pd.DataFrame({'posts': [only_photos, video_multi],\n",
    "                   'index': ['Post type: Photo', 'Post type: Video or Multi']})\n",
    "\n",
    "plot = df.plot.bar(x='index', y='posts', rot=0)"
   ],
   "metadata": {
    "collapsed": false,
    "pycharm": {
     "name": "#%%\n"
    }
   }
  },
  {
   "cell_type": "code",
   "execution_count": 27,
   "outputs": [
    {
     "data": {
      "text/plain": "           sid  sid_profile      post_id  profile_id  location_id  \\\n1861  28372824      3444658  BWatkdZACtC     7061024     59743640   \n1265  26702072       301272  BP3clgjDC-Q   319897212   1029929202   \n2660  28374117       548786  Bvo_FBVgypy   208502444    751708427   \n5471  28376593           -1  BJs2p4ZBYn3   335410451    568572977   \n5805  28376800           -1  BaWZhdrnL2n   530835252    274141210   \n4786  28375819           -1  BxDZBh-nMLT  3127385206    347539836   \n4489  28375502        96176  BWV0XlLFYap    28226901        56495   \n7633  28378626       355000  BeoMTEvAPHr    43867292    229414338   \n7115  28378115           -1  BvQHvOHBOab  1526791424   1018609727   \n1407  28372402      3267216  BMZ1dkwAFSH    26017486      5096215   \n\n                          cts  post_type  \\\n1861  2017-07-11 21:05:22.000          1   \n1265  2017-01-30 00:15:11.000          1   \n2660  2019-03-30 18:12:35.000          1   \n5471  2016-08-29 19:22:57.000          1   \n5805  2017-10-17 14:58:48.000          1   \n4786  2019-05-04 21:50:56.000          1   \n4489  2017-07-09 23:28:34.000          1   \n7633  2018-01-31 21:55:09.000          1   \n7115  2019-03-21 02:27:14.000          1   \n1407  2016-11-04 22:41:09.000          1   \n\n                                            description  numbr_likes  \\\n1861  Я вот просматриваю иногда свой аккаунт Инстагр...       298913   \n1265  Iridescent pastel pink 🦄 \\nCreated using Lipgl...       129571   \n2660  Confirmation that Huddersfield are relegated f...       123678   \n5471                        On rigole bien quand même💃🏼       106113   \n5805  Algún día debería hacer una quedada 🤤🤤\\nCuando...        67342   \n4786  Prévias feitas! Agora é comer, descansar e esp...        60736   \n4489       Baby Driver in Wellington (📸 @carmelovarela)        50442   \n7633  Great morning at Spence. Many thanks Hollie @h...        47271   \n7115  Măm Măm 😋😋😋 #ngoctrinh #ngoctrinhofficial #you...        47065   \n1407             date night at putte's 🍕#helsinkisecret        43821   \n\n      number_comments  \n1861              386  \n1265              386  \n2660              484  \n5471              545  \n5805              398  \n4786              879  \n4489              116  \n7633              152  \n7115              171  \n1407               53  ",
      "text/html": "<div>\n<style scoped>\n    .dataframe tbody tr th:only-of-type {\n        vertical-align: middle;\n    }\n\n    .dataframe tbody tr th {\n        vertical-align: top;\n    }\n\n    .dataframe thead th {\n        text-align: right;\n    }\n</style>\n<table border=\"1\" class=\"dataframe\">\n  <thead>\n    <tr style=\"text-align: right;\">\n      <th></th>\n      <th>sid</th>\n      <th>sid_profile</th>\n      <th>post_id</th>\n      <th>profile_id</th>\n      <th>location_id</th>\n      <th>cts</th>\n      <th>post_type</th>\n      <th>description</th>\n      <th>numbr_likes</th>\n      <th>number_comments</th>\n    </tr>\n  </thead>\n  <tbody>\n    <tr>\n      <th>1861</th>\n      <td>28372824</td>\n      <td>3444658</td>\n      <td>BWatkdZACtC</td>\n      <td>7061024</td>\n      <td>59743640</td>\n      <td>2017-07-11 21:05:22.000</td>\n      <td>1</td>\n      <td>Я вот просматриваю иногда свой аккаунт Инстагр...</td>\n      <td>298913</td>\n      <td>386</td>\n    </tr>\n    <tr>\n      <th>1265</th>\n      <td>26702072</td>\n      <td>301272</td>\n      <td>BP3clgjDC-Q</td>\n      <td>319897212</td>\n      <td>1029929202</td>\n      <td>2017-01-30 00:15:11.000</td>\n      <td>1</td>\n      <td>Iridescent pastel pink 🦄 \\nCreated using Lipgl...</td>\n      <td>129571</td>\n      <td>386</td>\n    </tr>\n    <tr>\n      <th>2660</th>\n      <td>28374117</td>\n      <td>548786</td>\n      <td>Bvo_FBVgypy</td>\n      <td>208502444</td>\n      <td>751708427</td>\n      <td>2019-03-30 18:12:35.000</td>\n      <td>1</td>\n      <td>Confirmation that Huddersfield are relegated f...</td>\n      <td>123678</td>\n      <td>484</td>\n    </tr>\n    <tr>\n      <th>5471</th>\n      <td>28376593</td>\n      <td>-1</td>\n      <td>BJs2p4ZBYn3</td>\n      <td>335410451</td>\n      <td>568572977</td>\n      <td>2016-08-29 19:22:57.000</td>\n      <td>1</td>\n      <td>On rigole bien quand même💃🏼</td>\n      <td>106113</td>\n      <td>545</td>\n    </tr>\n    <tr>\n      <th>5805</th>\n      <td>28376800</td>\n      <td>-1</td>\n      <td>BaWZhdrnL2n</td>\n      <td>530835252</td>\n      <td>274141210</td>\n      <td>2017-10-17 14:58:48.000</td>\n      <td>1</td>\n      <td>Algún día debería hacer una quedada 🤤🤤\\nCuando...</td>\n      <td>67342</td>\n      <td>398</td>\n    </tr>\n    <tr>\n      <th>4786</th>\n      <td>28375819</td>\n      <td>-1</td>\n      <td>BxDZBh-nMLT</td>\n      <td>3127385206</td>\n      <td>347539836</td>\n      <td>2019-05-04 21:50:56.000</td>\n      <td>1</td>\n      <td>Prévias feitas! Agora é comer, descansar e esp...</td>\n      <td>60736</td>\n      <td>879</td>\n    </tr>\n    <tr>\n      <th>4489</th>\n      <td>28375502</td>\n      <td>96176</td>\n      <td>BWV0XlLFYap</td>\n      <td>28226901</td>\n      <td>56495</td>\n      <td>2017-07-09 23:28:34.000</td>\n      <td>1</td>\n      <td>Baby Driver in Wellington (📸 @carmelovarela)</td>\n      <td>50442</td>\n      <td>116</td>\n    </tr>\n    <tr>\n      <th>7633</th>\n      <td>28378626</td>\n      <td>355000</td>\n      <td>BeoMTEvAPHr</td>\n      <td>43867292</td>\n      <td>229414338</td>\n      <td>2018-01-31 21:55:09.000</td>\n      <td>1</td>\n      <td>Great morning at Spence. Many thanks Hollie @h...</td>\n      <td>47271</td>\n      <td>152</td>\n    </tr>\n    <tr>\n      <th>7115</th>\n      <td>28378115</td>\n      <td>-1</td>\n      <td>BvQHvOHBOab</td>\n      <td>1526791424</td>\n      <td>1018609727</td>\n      <td>2019-03-21 02:27:14.000</td>\n      <td>1</td>\n      <td>Măm Măm 😋😋😋 #ngoctrinh #ngoctrinhofficial #you...</td>\n      <td>47065</td>\n      <td>171</td>\n    </tr>\n    <tr>\n      <th>1407</th>\n      <td>28372402</td>\n      <td>3267216</td>\n      <td>BMZ1dkwAFSH</td>\n      <td>26017486</td>\n      <td>5096215</td>\n      <td>2016-11-04 22:41:09.000</td>\n      <td>1</td>\n      <td>date night at putte's 🍕#helsinkisecret</td>\n      <td>43821</td>\n      <td>53</td>\n    </tr>\n  </tbody>\n</table>\n</div>"
     },
     "execution_count": 27,
     "metadata": {},
     "output_type": "execute_result"
    }
   ],
   "source": [
    "# What posts have the highest number of \"likes\"?\n",
    "posts_chunk.sort_values(by='numbr_likes', ascending=False).head(10)"
   ],
   "metadata": {
    "collapsed": false,
    "pycharm": {
     "name": "#%%\n"
    }
   }
  },
  {
   "cell_type": "code",
   "execution_count": 33,
   "outputs": [
    {
     "name": "stdout",
     "output_type": "stream",
     "text": [
      "business account percentage: 57.43474012913824\n",
      "not business account percentage: 42.56525987086176\n"
     ]
    }
   ],
   "source": [
    "# What's the percentage of business accounts vs non-business? What can you interpret regarding that percentage?\n",
    "\n",
    "business, not_business = profiles['is_business_account'].value_counts()\n",
    "not_business += profiles['is_business_account'].isnull().sum()\n",
    "print(\"business account percentage: {}\\nnot business account percentage: {}\".format((business/profiles['is_business_account'].size) * 100 , (not_business/profiles['is_business_account'].size) * 100))"
   ],
   "metadata": {
    "collapsed": false,
    "pycharm": {
     "name": "#%%\n"
    }
   }
  },
  {
   "cell_type": "markdown",
   "source": [
    "## **[RQ3] Now it's important to understand the most common times in which users publish their posts**"
   ],
   "metadata": {
    "collapsed": false,
    "pycharm": {
     "name": "#%% md\n"
    }
   }
  },
  {
   "cell_type": "code",
   "execution_count": 40,
   "outputs": [
    {
     "data": {
      "text/plain": "         times  number_posts_submitted\n7444  19:47:56                       3\n4846  14:53:01                       3\n5490  16:06:57                       3\n4610  14:24:03                       3\n51    00:08:18                       3\n...        ...                     ...\n3195  10:52:35                       1\n3194  10:52:19                       1\n3193  10:52:09                       1\n3192  10:52:00                       1\n9410  23:59:59                       1\n\n[9411 rows x 2 columns]",
      "text/html": "<div>\n<style scoped>\n    .dataframe tbody tr th:only-of-type {\n        vertical-align: middle;\n    }\n\n    .dataframe tbody tr th {\n        vertical-align: top;\n    }\n\n    .dataframe thead th {\n        text-align: right;\n    }\n</style>\n<table border=\"1\" class=\"dataframe\">\n  <thead>\n    <tr style=\"text-align: right;\">\n      <th></th>\n      <th>times</th>\n      <th>number_posts_submitted</th>\n    </tr>\n  </thead>\n  <tbody>\n    <tr>\n      <th>7444</th>\n      <td>19:47:56</td>\n      <td>3</td>\n    </tr>\n    <tr>\n      <th>4846</th>\n      <td>14:53:01</td>\n      <td>3</td>\n    </tr>\n    <tr>\n      <th>5490</th>\n      <td>16:06:57</td>\n      <td>3</td>\n    </tr>\n    <tr>\n      <th>4610</th>\n      <td>14:24:03</td>\n      <td>3</td>\n    </tr>\n    <tr>\n      <th>51</th>\n      <td>00:08:18</td>\n      <td>3</td>\n    </tr>\n    <tr>\n      <th>...</th>\n      <td>...</td>\n      <td>...</td>\n    </tr>\n    <tr>\n      <th>3195</th>\n      <td>10:52:35</td>\n      <td>1</td>\n    </tr>\n    <tr>\n      <th>3194</th>\n      <td>10:52:19</td>\n      <td>1</td>\n    </tr>\n    <tr>\n      <th>3193</th>\n      <td>10:52:09</td>\n      <td>1</td>\n    </tr>\n    <tr>\n      <th>3192</th>\n      <td>10:52:00</td>\n      <td>1</td>\n    </tr>\n    <tr>\n      <th>9410</th>\n      <td>23:59:59</td>\n      <td>1</td>\n    </tr>\n  </tbody>\n</table>\n<p>9411 rows × 2 columns</p>\n</div>"
     },
     "execution_count": 40,
     "metadata": {},
     "output_type": "execute_result"
    }
   ],
   "source": [
    "# What is the most common time in which users publish their posts?\n",
    "profiles['times'] = pd.to_datetime(posts_chunk['cts']).dt.strftime('%H:%M:%S')\n",
    "profiles.groupby(['times'])['times'].count().reset_index(name='number_posts_submitted').sort_values(['number_posts_submitted'], ascending=False)"
   ],
   "metadata": {
    "collapsed": false,
    "pycharm": {
     "name": "#%%\n"
    }
   }
  },
  {
   "cell_type": "code",
   "execution_count": 36,
   "outputs": [],
   "source": [
    "# Create a function that receives a time intervals list as a parameter and returns a plot with the number of posts for each given interval.\n",
    "\n",
    "def plot_posts_per_time(interval_list, input):\n",
    "    if input is not None:\n",
    "        dataset = input\n",
    "    else: dataset = profiles\n",
    "    cts = dataset.groupby(['times'])['times'].count().reset_index(name='number_posts_submitted').sort_values(['number_posts_submitted'], ascending=False)\n",
    "    cts['times'] = pd.to_datetime(cts['times'], format='%H:%M:%S').dt.time\n",
    "    times = list(zip(cts.times, cts.number_posts_submitted))\n",
    "    default_value = 0\n",
    "    keys = []\n",
    "    for initial_time, end_time in interval_list:\n",
    "        keys.append(initial_time + '-' + end_time)\n",
    "    posts_in_intervals = dict.fromkeys(keys,default_value)\n",
    "    for initial_time, end_time in interval_list:\n",
    "        for time, num_post in times:\n",
    "            if pd.to_datetime(initial_time).time() <= time <= pd.to_datetime(end_time).time():\n",
    "                posts_in_intervals[initial_time + '-' + end_time] += num_post\n",
    "\n",
    "    fig, ax = plt.subplots()\n",
    "    ax.barh(*zip(*posts_in_intervals.items()))\n",
    "    plt.show()"
   ],
   "metadata": {
    "collapsed": false,
    "pycharm": {
     "name": "#%%\n"
    }
   }
  },
  {
   "cell_type": "code",
   "execution_count": 37,
   "outputs": [
    {
     "data": {
      "text/plain": "<Figure size 432x288 with 1 Axes>",
      "image/png": "[encoded data removed]"
     },
     "metadata": {},
     "output_type": "display_data"
    }
   ],
   "source": [
    "# Use the function that you created in the previous literal to plot the number of posts between the following time intervals:\n",
    "\n",
    "interval_list = [('06:00:00', '10:59:59'),('11:00:00', '13:59:59'), ('14:00:00', '16:59:59'), ('17:00:00', '19:59:59'), ('20:00:00', '23:59:59'), ('00:00:00', '02:59:59'), ('03:00:00','05:59:59')]\n",
    "\n",
    "plot_posts_per_time(interval_list, None)"
   ],
   "metadata": {
    "collapsed": false,
    "pycharm": {
     "name": "#%%\n"
    }
   }
  },
  {
   "cell_type": "markdown",
   "source": [
    "## **[RQ4] In most cases, we will not have a consistent dataset, and the one we are dealing with is not an exception (ex. in the given datasets, you may not find the information of the profiles for some of the posts). So let’s enhance our analysis.**"
   ],
   "metadata": {
    "collapsed": false,
    "pycharm": {
     "name": "#%% md\n"
    }
   }
  },
  {
   "cell_type": "code",
   "execution_count": 38,
   "outputs": [
    {
     "data": {
      "text/plain": "           sid  sid_profile      post_id  profile_id      location_id  \\\n980   28371980           -1  BgL2hudDhs6   260162660  527503834011860   \n981   28371989           -1  Bx1hPfRgoEf   260162660  527503834011860   \n982   28371988           -1  BxnS_a4jTt8   260162660  527503834011860   \n983   28371983           -1  BxlUigzA_td   260162660  527503834011860   \n984   28371992           -1  BxhhYC-AAef   260162660  527503834011860   \n985   28371993           -1  BxgZIPDgEfi   260162660  527503834011860   \n986   28371974           -1  Bxe3LdiACNN   260162660  527503834011860   \n987   28371994           -1  BxBPC7rgts-   260162660  527503834011860   \n988   28371995           -1  Bw3YQJeAvic   260162660  527503834011860   \n989   28371987           -1  BvkoDxUAqeo   260162660  527503834011860   \n990   28371979           -1  BtlhXGIgbo_   260162660  527503834011860   \n991   28371984           -1  Bg4SLqyH_Ro   260162660  527503834011860   \n1034  28371996           -1  BwpEScWgzyT   260162660  527503834011860   \n1035  28371997           -1  BwmLoIognde   260162660  527503834011860   \n1036  28371998           -1  BwZ-gAiAJZi   260162660  527503834011860   \n1037  28371999           -1  BwP27SrAJ24   260162660  527503834011860   \n1038  28372000           -1  BvdewhoA421   260162660  527503834011860   \n1039  28372001           -1  Bt3FWy9AUOE   260162660  527503834011860   \n1040  28372002           -1  BtjH6snAOmE   260162660  527503834011860   \n1041  28372003           -1  BsjC2vmg3Ef   260162660  527503834011860   \n1042  28372004           -1  BqnB5YOghSu   260162660  527503834011860   \n1043  28372005           -1  BlypOvpHsEV   260162660  527503834011860   \n1044  28372006           -1  BlIRcnbBnBP   260162660  527503834011860   \n1045  28371977           -1  Bhpy2FvD4uC   260162660  527503834011860   \n\n                          cts  post_type  \\\n980   2018-03-11 14:48:58.000          1   \n981   2019-05-24 09:04:47.000          1   \n982   2019-05-18 20:30:53.000          1   \n983   2019-05-18 02:05:56.000          1   \n984   2019-05-16 14:41:08.000          1   \n985   2019-05-16 04:09:50.000          1   \n986   2019-05-15 13:54:26.000          2   \n987   2019-05-04 01:45:16.000          1   \n988   2019-04-30 05:56:05.000          2   \n989   2019-03-29 01:34:28.000          1   \n990   2019-02-07 16:52:24.000          1   \n991   2018-03-28 21:57:12.000          1   \n1034  2019-04-24 16:29:30.000          1   \n1035  2019-04-23 13:35:54.000          1   \n1036  2019-04-18 19:50:19.000          1   \n1037  2019-04-14 21:31:44.000          1   \n1038  2019-03-26 07:00:55.000          2   \n1039  2019-02-14 12:34:01.000          1   \n1040  2019-02-06 18:31:35.000          1   \n1041  2019-01-12 21:15:57.000          1   \n1042  2018-11-25 17:21:45.000          1   \n1043  2018-07-29 00:00:08.000          1   \n1044  2018-07-12 13:04:12.000          1   \n1045  2018-04-17 03:25:24.000          1   \n\n                                            description  numbr_likes  \\\n980   Some people want understand this picture but i...           18   \n981   At 3 in da morning it’s a damn shame but this ...            1   \n982   Chilling with the rude boy Campbell I gotta sh...           11   \n983   The grind don’t stop there’s no event to big o...           14   \n984     Gm world from my nep dj mir with his Kodak pose            4   \n985             I’m this old Lmmfao my favorite cartoon            4   \n986                         Book me for your next event           31   \n987   #firstfriday ready @hb_bigmurda and @mpapeewee...           10   \n988   My new look treat yourself not cheat yourself ...            0   \n989         Long live Zaro MBF We All We Got @darealmbf           11   \n990   Gm world could you stop 🛑 what you doing for o...           19   \n991                            Come take a ride with me           12   \n1034  My dawg say I’m lucky I say I’m blessed I had ...            5   \n1035  One time two time for America music supply it’...            3   \n1036  Catch me on da 1’s & 2’s Easter 🐣 Sunday perfo...            0   \n1037                                    Have some lol 😝            3   \n1038   Late night vibing to my boi @bigpatdabankaccount            2   \n1039                              Happy Valentine’s Day            3   \n1040  It’s a free weekend in Polk co everybody free ...            0   \n1041  It’s going down next Friday night salute the D...            5   \n1042  You know I’m with da 💩💩💩💩 I got time today go ...            5   \n1043  I gotta eat before I start drinking getting ri...            3   \n1044  Up early this morning Thanking God for letting...            9   \n1045  Bruh love I remember when I first started djin...           20   \n\n      number_comments  \n980                 0  \n981                 0  \n982                 0  \n983                 2  \n984                 0  \n985                 0  \n986                 1  \n987                 0  \n988                 0  \n989                 2  \n990                 1  \n991                 3  \n1034                0  \n1035                0  \n1036                0  \n1037                0  \n1038                1  \n1039                0  \n1040                0  \n1041                0  \n1042                0  \n1043                2  \n1044                1  \n1045                2  ",
      "text/html": "<div>\n<style scoped>\n    .dataframe tbody tr th:only-of-type {\n        vertical-align: middle;\n    }\n\n    .dataframe tbody tr th {\n        vertical-align: top;\n    }\n\n    .dataframe thead th {\n        text-align: right;\n    }\n</style>\n<table border=\"1\" class=\"dataframe\">\n  <thead>\n    <tr style=\"text-align: right;\">\n      <th></th>\n      <th>sid</th>\n      <th>sid_profile</th>\n      <th>post_id</th>\n      <th>profile_id</th>\n      <th>location_id</th>\n      <th>cts</th>\n      <th>post_type</th>\n      <th>description</th>\n      <th>numbr_likes</th>\n      <th>number_comments</th>\n    </tr>\n  </thead>\n  <tbody>\n    <tr>\n      <th>980</th>\n      <td>28371980</td>\n      <td>-1</td>\n      <td>BgL2hudDhs6</td>\n      <td>260162660</td>\n      <td>527503834011860</td>\n      <td>2018-03-11 14:48:58.000</td>\n      <td>1</td>\n      <td>Some people want understand this picture but i...</td>\n      <td>18</td>\n      <td>0</td>\n    </tr>\n    <tr>\n      <th>981</th>\n      <td>28371989</td>\n      <td>-1</td>\n      <td>Bx1hPfRgoEf</td>\n      <td>260162660</td>\n      <td>527503834011860</td>\n      <td>2019-05-24 09:04:47.000</td>\n      <td>1</td>\n      <td>At 3 in da morning it’s a damn shame but this ...</td>\n      <td>1</td>\n      <td>0</td>\n    </tr>\n    <tr>\n      <th>982</th>\n      <td>28371988</td>\n      <td>-1</td>\n      <td>BxnS_a4jTt8</td>\n      <td>260162660</td>\n      <td>527503834011860</td>\n      <td>2019-05-18 20:30:53.000</td>\n      <td>1</td>\n      <td>Chilling with the rude boy Campbell I gotta sh...</td>\n      <td>11</td>\n      <td>0</td>\n    </tr>\n    <tr>\n      <th>983</th>\n      <td>28371983</td>\n      <td>-1</td>\n      <td>BxlUigzA_td</td>\n      <td>260162660</td>\n      <td>527503834011860</td>\n      <td>2019-05-18 02:05:56.000</td>\n      <td>1</td>\n      <td>The grind don’t stop there’s no event to big o...</td>\n      <td>14</td>\n      <td>2</td>\n    </tr>\n    <tr>\n      <th>984</th>\n      <td>28371992</td>\n      <td>-1</td>\n      <td>BxhhYC-AAef</td>\n      <td>260162660</td>\n      <td>527503834011860</td>\n      <td>2019-05-16 14:41:08.000</td>\n      <td>1</td>\n      <td>Gm world from my nep dj mir with his Kodak pose</td>\n      <td>4</td>\n      <td>0</td>\n    </tr>\n    <tr>\n      <th>985</th>\n      <td>28371993</td>\n      <td>-1</td>\n      <td>BxgZIPDgEfi</td>\n      <td>260162660</td>\n      <td>527503834011860</td>\n      <td>2019-05-16 04:09:50.000</td>\n      <td>1</td>\n      <td>I’m this old Lmmfao my favorite cartoon</td>\n      <td>4</td>\n      <td>0</td>\n    </tr>\n    <tr>\n      <th>986</th>\n      <td>28371974</td>\n      <td>-1</td>\n      <td>Bxe3LdiACNN</td>\n      <td>260162660</td>\n      <td>527503834011860</td>\n      <td>2019-05-15 13:54:26.000</td>\n      <td>2</td>\n      <td>Book me for your next event</td>\n      <td>31</td>\n      <td>1</td>\n    </tr>\n    <tr>\n      <th>987</th>\n      <td>28371994</td>\n      <td>-1</td>\n      <td>BxBPC7rgts-</td>\n      <td>260162660</td>\n      <td>527503834011860</td>\n      <td>2019-05-04 01:45:16.000</td>\n      <td>1</td>\n      <td>#firstfriday ready @hb_bigmurda and @mpapeewee...</td>\n      <td>10</td>\n      <td>0</td>\n    </tr>\n    <tr>\n      <th>988</th>\n      <td>28371995</td>\n      <td>-1</td>\n      <td>Bw3YQJeAvic</td>\n      <td>260162660</td>\n      <td>527503834011860</td>\n      <td>2019-04-30 05:56:05.000</td>\n      <td>2</td>\n      <td>My new look treat yourself not cheat yourself ...</td>\n      <td>0</td>\n      <td>0</td>\n    </tr>\n    <tr>\n      <th>989</th>\n      <td>28371987</td>\n      <td>-1</td>\n      <td>BvkoDxUAqeo</td>\n      <td>260162660</td>\n      <td>527503834011860</td>\n      <td>2019-03-29 01:34:28.000</td>\n      <td>1</td>\n      <td>Long live Zaro MBF We All We Got @darealmbf</td>\n      <td>11</td>\n      <td>2</td>\n    </tr>\n    <tr>\n      <th>990</th>\n      <td>28371979</td>\n      <td>-1</td>\n      <td>BtlhXGIgbo_</td>\n      <td>260162660</td>\n      <td>527503834011860</td>\n      <td>2019-02-07 16:52:24.000</td>\n      <td>1</td>\n      <td>Gm world could you stop 🛑 what you doing for o...</td>\n      <td>19</td>\n      <td>1</td>\n    </tr>\n    <tr>\n      <th>991</th>\n      <td>28371984</td>\n      <td>-1</td>\n      <td>Bg4SLqyH_Ro</td>\n      <td>260162660</td>\n      <td>527503834011860</td>\n      <td>2018-03-28 21:57:12.000</td>\n      <td>1</td>\n      <td>Come take a ride with me</td>\n      <td>12</td>\n      <td>3</td>\n    </tr>\n    <tr>\n      <th>1034</th>\n      <td>28371996</td>\n      <td>-1</td>\n      <td>BwpEScWgzyT</td>\n      <td>260162660</td>\n      <td>527503834011860</td>\n      <td>2019-04-24 16:29:30.000</td>\n      <td>1</td>\n      <td>My dawg say I’m lucky I say I’m blessed I had ...</td>\n      <td>5</td>\n      <td>0</td>\n    </tr>\n    <tr>\n      <th>1035</th>\n      <td>28371997</td>\n      <td>-1</td>\n      <td>BwmLoIognde</td>\n      <td>260162660</td>\n      <td>527503834011860</td>\n      <td>2019-04-23 13:35:54.000</td>\n      <td>1</td>\n      <td>One time two time for America music supply it’...</td>\n      <td>3</td>\n      <td>0</td>\n    </tr>\n    <tr>\n      <th>1036</th>\n      <td>28371998</td>\n      <td>-1</td>\n      <td>BwZ-gAiAJZi</td>\n      <td>260162660</td>\n      <td>527503834011860</td>\n      <td>2019-04-18 19:50:19.000</td>\n      <td>1</td>\n      <td>Catch me on da 1’s &amp; 2’s Easter 🐣 Sunday perfo...</td>\n      <td>0</td>\n      <td>0</td>\n    </tr>\n    <tr>\n      <th>1037</th>\n      <td>28371999</td>\n      <td>-1</td>\n      <td>BwP27SrAJ24</td>\n      <td>260162660</td>\n      <td>527503834011860</td>\n      <td>2019-04-14 21:31:44.000</td>\n      <td>1</td>\n      <td>Have some lol 😝</td>\n      <td>3</td>\n      <td>0</td>\n    </tr>\n    <tr>\n      <th>1038</th>\n      <td>28372000</td>\n      <td>-1</td>\n      <td>BvdewhoA421</td>\n      <td>260162660</td>\n      <td>527503834011860</td>\n      <td>2019-03-26 07:00:55.000</td>\n      <td>2</td>\n      <td>Late night vibing to my boi @bigpatdabankaccount</td>\n      <td>2</td>\n      <td>1</td>\n    </tr>\n    <tr>\n      <th>1039</th>\n      <td>28372001</td>\n      <td>-1</td>\n      <td>Bt3FWy9AUOE</td>\n      <td>260162660</td>\n      <td>527503834011860</td>\n      <td>2019-02-14 12:34:01.000</td>\n      <td>1</td>\n      <td>Happy Valentine’s Day</td>\n      <td>3</td>\n      <td>0</td>\n    </tr>\n    <tr>\n      <th>1040</th>\n      <td>28372002</td>\n      <td>-1</td>\n      <td>BtjH6snAOmE</td>\n      <td>260162660</td>\n      <td>527503834011860</td>\n      <td>2019-02-06 18:31:35.000</td>\n      <td>1</td>\n      <td>It’s a free weekend in Polk co everybody free ...</td>\n      <td>0</td>\n      <td>0</td>\n    </tr>\n    <tr>\n      <th>1041</th>\n      <td>28372003</td>\n      <td>-1</td>\n      <td>BsjC2vmg3Ef</td>\n      <td>260162660</td>\n      <td>527503834011860</td>\n      <td>2019-01-12 21:15:57.000</td>\n      <td>1</td>\n      <td>It’s going down next Friday night salute the D...</td>\n      <td>5</td>\n      <td>0</td>\n    </tr>\n    <tr>\n      <th>1042</th>\n      <td>28372004</td>\n      <td>-1</td>\n      <td>BqnB5YOghSu</td>\n      <td>260162660</td>\n      <td>527503834011860</td>\n      <td>2018-11-25 17:21:45.000</td>\n      <td>1</td>\n      <td>You know I’m with da 💩💩💩💩 I got time today go ...</td>\n      <td>5</td>\n      <td>0</td>\n    </tr>\n    <tr>\n      <th>1043</th>\n      <td>28372005</td>\n      <td>-1</td>\n      <td>BlypOvpHsEV</td>\n      <td>260162660</td>\n      <td>527503834011860</td>\n      <td>2018-07-29 00:00:08.000</td>\n      <td>1</td>\n      <td>I gotta eat before I start drinking getting ri...</td>\n      <td>3</td>\n      <td>2</td>\n    </tr>\n    <tr>\n      <th>1044</th>\n      <td>28372006</td>\n      <td>-1</td>\n      <td>BlIRcnbBnBP</td>\n      <td>260162660</td>\n      <td>527503834011860</td>\n      <td>2018-07-12 13:04:12.000</td>\n      <td>1</td>\n      <td>Up early this morning Thanking God for letting...</td>\n      <td>9</td>\n      <td>1</td>\n    </tr>\n    <tr>\n      <th>1045</th>\n      <td>28371977</td>\n      <td>-1</td>\n      <td>Bhpy2FvD4uC</td>\n      <td>260162660</td>\n      <td>527503834011860</td>\n      <td>2018-04-17 03:25:24.000</td>\n      <td>1</td>\n      <td>Bruh love I remember when I first started djin...</td>\n      <td>20</td>\n      <td>2</td>\n    </tr>\n  </tbody>\n</table>\n</div>"
     },
     "execution_count": 38,
     "metadata": {},
     "output_type": "execute_result"
    }
   ],
   "source": [
    "# Write a function that, given a profile_id, will be able to return the posts that belong to the given profile_id.\n",
    "def get_posts_by_profile_id(profile_id):\n",
    "    return posts_chunk.query(\"profile_id == {}\".format(profile_id))\n",
    "\n",
    "get_posts_by_profile_id(260162660)"
   ],
   "metadata": {
    "collapsed": false,
    "pycharm": {
     "name": "#%%\n"
    }
   }
  },
  {
   "cell_type": "code",
   "execution_count": 51,
   "outputs": [],
   "source": [
    "# Write another function that, given an input n (an integer), will return the posts that belong to the n top posted profiles (top n profiles that have posted the highest number of posts) that their data is available in the profile.csv using the previously written function.\n",
    "def post_of_n_top_posted_profiles(n):\n",
    "    profiles.groupby([\"profile_id\"], dropna=True)['n_posts'].sum()\n",
    "    n_top_profiles = profiles.sort_values(by='n_posts', ascending = False).head(n)\n",
    "    filter_list = n_top_profiles['profile_id']\n",
    "    return posts_chunk[posts_chunk['profile_id'].isin(filter_list)]"
   ],
   "metadata": {
    "collapsed": false,
    "pycharm": {
     "name": "#%%\n"
    }
   }
  },
  {
   "cell_type": "code",
   "execution_count": 52,
   "outputs": [
    {
     "name": "stdout",
     "output_type": "stream",
     "text": [
      "Average number of likes: 2.25\n",
      "Average number of comments: 0.0\n"
     ]
    }
   ],
   "source": [
    "# What is the average number of \"likes\" and comments of the top 10 profiles with the highest number of posts which their information is available in profile.csv?\n",
    "\n",
    "posts_of_n_top_profiles = post_of_n_top_posted_profiles(10)\n",
    "print(\"Average number of likes: {}\\nAverage number of comments: {}\".format(posts_of_n_top_profiles['numbr_likes'].mean(), posts_of_n_top_profiles['number_comments'].mean()))"
   ],
   "metadata": {
    "collapsed": false,
    "pycharm": {
     "name": "#%%\n"
    }
   }
  },
  {
   "cell_type": "code",
   "execution_count": 41,
   "outputs": [
    {
     "data": {
      "text/plain": "<Figure size 432x288 with 1 Axes>",
      "image/png": "[encoded data removed]"
     },
     "metadata": {},
     "output_type": "display_data"
    }
   ],
   "source": [
    "# Plot the number of posts that these top 10 profiles have sent on Instagram in the given interval in question RQ3. Interpret the resulting chart.\n",
    "posts_of_n_top_profiles = post_of_n_top_posted_profiles(10)\n",
    "posts_of_n_top_profiles['times'] = pd.to_datetime(posts_of_n_top_profiles['cts']).dt.strftime('%H:%M:%S')\n",
    "posts_of_n_top_profiles.groupby(['times'])['times'].count().reset_index(name='number_posts_submitted').sort_values(['number_posts_submitted'], ascending=False)\n",
    "\n",
    "plot_posts_per_time(interval_list, posts_of_n_top_profiles)"
   ],
   "metadata": {
    "collapsed": false,
    "pycharm": {
     "name": "#%%\n"
    }
   }
  },
  {
   "cell_type": "markdown",
   "source": [
    "## **[RQ5] The most influential users are the ones with the highest number of “followers\", you can now look more into their activity.**"
   ],
   "metadata": {
    "collapsed": false,
    "pycharm": {
     "name": "#%% md\n"
    }
   }
  },
  {
   "cell_type": "code",
   "execution_count": 53,
   "outputs": [
    {
     "data": {
      "text/plain": "<Figure size 432x288 with 1 Axes>",
      "image/png": "[encoded data removed]"
     },
     "metadata": {},
     "output_type": "display_data"
    }
   ],
   "source": [
    "# Plot the top 10 most popular users in terms of followers and their number of posts.\n",
    "top_ten_most_popular_profiles = profiles.sort_values(['followers'], ascending=False).head(10)\n",
    "fig, ax = plt.subplots()\n",
    "ax.barh(top_ten_most_popular_profiles['profile_name'], top_ten_most_popular_profiles['followers'])\n",
    "plt.show()"
   ],
   "metadata": {
    "collapsed": false,
    "pycharm": {
     "name": "#%%\n"
    }
   }
  },
  {
   "cell_type": "code",
   "execution_count": 54,
   "outputs": [
    {
     "data": {
      "text/plain": "            sid  profile_id profile_name firstname_lastname  \\\n2880218  336492  25025320.0    instagram          Instagram   \n\n                                               description  following  \\\n2880218  Bringing you closer to the people and things y...      226.0   \n\n           followers  n_posts                 url  cts is_business_account  \\\n2880218  285457645.0   5760.0  help.instagram.com  NaN               False   \n\n        times  \n2880218   NaN  ",
      "text/html": "<div>\n<style scoped>\n    .dataframe tbody tr th:only-of-type {\n        vertical-align: middle;\n    }\n\n    .dataframe tbody tr th {\n        vertical-align: top;\n    }\n\n    .dataframe thead th {\n        text-align: right;\n    }\n</style>\n<table border=\"1\" class=\"dataframe\">\n  <thead>\n    <tr style=\"text-align: right;\">\n      <th></th>\n      <th>sid</th>\n      <th>profile_id</th>\n      <th>profile_name</th>\n      <th>firstname_lastname</th>\n      <th>description</th>\n      <th>following</th>\n      <th>followers</th>\n      <th>n_posts</th>\n      <th>url</th>\n      <th>cts</th>\n      <th>is_business_account</th>\n      <th>times</th>\n    </tr>\n  </thead>\n  <tbody>\n    <tr>\n      <th>2880218</th>\n      <td>336492</td>\n      <td>25025320.0</td>\n      <td>instagram</td>\n      <td>Instagram</td>\n      <td>Bringing you closer to the people and things y...</td>\n      <td>226.0</td>\n      <td>285457645.0</td>\n      <td>5760.0</td>\n      <td>help.instagram.com</td>\n      <td>NaN</td>\n      <td>False</td>\n      <td>NaN</td>\n    </tr>\n  </tbody>\n</table>\n</div>"
     },
     "execution_count": 54,
     "metadata": {},
     "output_type": "execute_result"
    }
   ],
   "source": [
    "# Who is the most influential user?\n",
    "top_ten_most_popular_profiles.loc[top_ten_most_popular_profiles['followers'] == top_ten_most_popular_profiles['followers'].max()]"
   ],
   "metadata": {
    "collapsed": false,
    "pycharm": {
     "name": "#%%\n"
    }
   }
  },
  {
   "cell_type": "code",
   "execution_count": 55,
   "outputs": [],
   "source": [
    "# Have they posted anything with tagged locations? Extract the most frequent areas on their posts and plot the number of times each city has been visited.\n",
    "posts_milion = posts.get_chunk(4000000)"
   ],
   "metadata": {
    "collapsed": false,
    "pycharm": {
     "name": "#%%\n"
    }
   }
  },
  {
   "cell_type": "code",
   "execution_count": 56,
   "outputs": [],
   "source": [
    "posts_of_top_profiles = posts_milion[posts_milion['profile_id'].isin(top_ten_most_popular_profiles['profile_id'])]\n",
    "posts_of_top_profiles[posts_of_top_profiles['location_id'].notnull()]\n",
    "locations_count = posts_of_top_profiles.groupby(['location_id'])['location_id'].count().reset_index(name='location_count')\n",
    "most_frequent_areas = locations.loc[locations['id'].isin(locations_count['location_id'])][['id','city']].rename(columns = {'id':'location_id'})"
   ],
   "metadata": {
    "collapsed": false,
    "pycharm": {
     "name": "#%%\n"
    }
   }
  },
  {
   "cell_type": "code",
   "execution_count": 62,
   "outputs": [
    {
     "data": {
      "text/plain": "<Figure size 432x288 with 1 Axes>",
      "image/png": "[encoded data removed]"
     },
     "metadata": {},
     "output_type": "display_data"
    }
   ],
   "source": [
    "cities_counts = pd.merge(locations_count, pd.notnull(most_frequent_areas), on=\"location_id\")\n",
    "fig, ax = plt.subplots()\n",
    "ax.barh(cities_counts.city, cities_counts.location_count)\n",
    "plt.show()"
   ],
   "metadata": {
    "collapsed": false,
    "pycharm": {
     "name": "#%%\n"
    }
   }
  },
  {
   "cell_type": "code",
   "execution_count": null,
   "outputs": [],
   "source": [
    "# How many pictures-only posts have they published? How many reels? (only videos) and how many with both contents? Provide the number as percentages and interpret those figures.\n",
    "\n"
   ],
   "metadata": {
    "collapsed": false,
    "pycharm": {
     "name": "#%%\n"
    }
   }
  },
  {
   "cell_type": "code",
   "execution_count": null,
   "outputs": [],
   "source": [],
   "metadata": {
    "collapsed": false,
    "pycharm": {
     "name": "#%%\n"
    }
   }
  }
 ],
 "metadata": {
  "kernelspec": {
   "display_name": "Python 3 (ipykernel)",
   "language": "python",
   "name": "python3"
  },
  "language_info": {
   "codemirror_mode": {
    "name": "ipython",
    "version": 3
   },
   "file_extension": ".py",
   "mimetype": "text/x-python",
   "name": "python",
   "nbconvert_exporter": "python",
   "pygments_lexer": "ipython3",
   "version": "3.9.7"
  }
 },
 "nbformat": 4,
 "nbformat_minor": 4
}