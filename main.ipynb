{
 "cells": [
  {
   "cell_type": "markdown",
   "source": [
    "# **Algorithm and Data Mining for Data Science Homework 2**\n",
    "\n",
    "\n",
    "\n",
    "## **#2 Homework: Instagram Profiles & Posts**"
   ],
   "metadata": {
    "collapsed": false,
    "pycharm": {
     "name": "#%% md\n"
    }
   }
  },
  {
   "cell_type": "code",
   "execution_count": 20,
   "outputs": [],
   "source": [
    "# import libraries\n",
    "\n",
    "import pandas as pd\n",
    "import dask.dataframe as dd\n",
    "import numpy as np\n",
    "from functools import reduce"
   ],
   "metadata": {
    "collapsed": false,
    "pycharm": {
     "name": "#%%\n"
    }
   }
  },
  {
   "cell_type": "code",
   "execution_count": 16,
   "outputs": [],
   "source": [
    "posts = dd.read_csv('../Datasets/instagram_posts.csv', sep=\"\\t\")\n",
    "locations = dd.read_csv('../Datasets/instagram_locations.csv', sep='\\t')\n",
    "profiles = dd.read_csv('../Datasets/instagram_profiles.csv', sep='\\t')"
   ],
   "metadata": {
    "collapsed": false,
    "pycharm": {
     "name": "#%%\n"
    }
   }
  },
  {
   "cell_type": "code",
   "execution_count": 24,
   "outputs": [],
   "source": [
    "columns = {'posts':set(posts.columns), 'locations': set(locations.columns), 'profiles': set(profiles.columns)}\n",
    "posts_dtype = dict([(x, np.str) for x in columns['posts']])\n",
    "locations_dtype = dict([(x, np.str) for x in columns['locations']])\n",
    "profiles_dtype = dict([(x, np.str) for x in columns['profiles']])"
   ],
   "metadata": {
    "collapsed": false,
    "pycharm": {
     "name": "#%%\n"
    }
   }
  },
  {
   "cell_type": "code",
   "execution_count": 25,
   "outputs": [],
   "source": [
    "posts = dd.read_csv('../Datasets/instagram_posts.csv', sep=\"\\t\", dtype = posts_dtype, usecols = posts_dtype.keys())\n",
    "locations = dd.read_csv('../Datasets/instagram_locations.csv', sep='\\t', dtype = locations_dtype, usecols = locations_dtype.keys())\n",
    "profiles = dd.read_csv('../Datasets/instagram_profiles.csv', sep='\\t', dtype = profiles_dtype, usecols = profiles_dtype.keys())"
   ],
   "metadata": {
    "collapsed": false,
    "pycharm": {
     "name": "#%%\n"
    }
   }
  },
  {
   "cell_type": "code",
   "execution_count": 33,
   "outputs": [
    {
     "data": {
      "text/plain": "        sid sid_profile      post_id  profile_id       location_id  \\\n0  28370919     3496776  BXdjjUlgcgq  2237947779  1022366247837915   \n1  28370932          -1  BVg0pbolYBC  5579335020   457426771112991   \n2  28370933          -1  BRgkjcXFp3Q   313429634   457426771112991   \n3  28370934          -1  BKTKeNhjEA7  1837592700   457426771112991   \n4  28370935          -1   8-NQrvoYLX  1131527143   457426771112991   \n\n                       cts post_type  \\\n0  2017-08-06 20:06:57.000         2   \n1  2017-06-19 09:31:16.000         1   \n2  2017-03-11 20:05:03.000         1   \n3  2016-09-13 16:27:16.000         1   \n4  2015-10-18 10:19:27.000         1   \n\n                                         description numbr_likes  \\\n0  Wreckloose! Deevalley bike park laps on the @i...          80   \n1  🙌🏼 believe in ya dreams 🙌🏼 just like I believe...          25   \n2  #meraviglia #incensi #the #candele #profumo #a...           9   \n3  #teatime #scorpion #friends #love #mountains #...           4   \n4                   thE sky gavE mE a #constEllation           8   \n\n  number_comments  \n0               0  \n1               1  \n2               0  \n3               0  \n4               0  ",
      "text/html": "<div>\n<style scoped>\n    .dataframe tbody tr th:only-of-type {\n        vertical-align: middle;\n    }\n\n    .dataframe tbody tr th {\n        vertical-align: top;\n    }\n\n    .dataframe thead th {\n        text-align: right;\n    }\n</style>\n<table border=\"1\" class=\"dataframe\">\n  <thead>\n    <tr style=\"text-align: right;\">\n      <th></th>\n      <th>sid</th>\n      <th>sid_profile</th>\n      <th>post_id</th>\n      <th>profile_id</th>\n      <th>location_id</th>\n      <th>cts</th>\n      <th>post_type</th>\n      <th>description</th>\n      <th>numbr_likes</th>\n      <th>number_comments</th>\n    </tr>\n  </thead>\n  <tbody>\n    <tr>\n      <th>0</th>\n      <td>28370919</td>\n      <td>3496776</td>\n      <td>BXdjjUlgcgq</td>\n      <td>2237947779</td>\n      <td>1022366247837915</td>\n      <td>2017-08-06 20:06:57.000</td>\n      <td>2</td>\n      <td>Wreckloose! Deevalley bike park laps on the @i...</td>\n      <td>80</td>\n      <td>0</td>\n    </tr>\n    <tr>\n      <th>1</th>\n      <td>28370932</td>\n      <td>-1</td>\n      <td>BVg0pbolYBC</td>\n      <td>5579335020</td>\n      <td>457426771112991</td>\n      <td>2017-06-19 09:31:16.000</td>\n      <td>1</td>\n      <td>🙌🏼 believe in ya dreams 🙌🏼 just like I believe...</td>\n      <td>25</td>\n      <td>1</td>\n    </tr>\n    <tr>\n      <th>2</th>\n      <td>28370933</td>\n      <td>-1</td>\n      <td>BRgkjcXFp3Q</td>\n      <td>313429634</td>\n      <td>457426771112991</td>\n      <td>2017-03-11 20:05:03.000</td>\n      <td>1</td>\n      <td>#meraviglia #incensi #the #candele #profumo #a...</td>\n      <td>9</td>\n      <td>0</td>\n    </tr>\n    <tr>\n      <th>3</th>\n      <td>28370934</td>\n      <td>-1</td>\n      <td>BKTKeNhjEA7</td>\n      <td>1837592700</td>\n      <td>457426771112991</td>\n      <td>2016-09-13 16:27:16.000</td>\n      <td>1</td>\n      <td>#teatime #scorpion #friends #love #mountains #...</td>\n      <td>4</td>\n      <td>0</td>\n    </tr>\n    <tr>\n      <th>4</th>\n      <td>28370935</td>\n      <td>-1</td>\n      <td>8-NQrvoYLX</td>\n      <td>1131527143</td>\n      <td>457426771112991</td>\n      <td>2015-10-18 10:19:27.000</td>\n      <td>1</td>\n      <td>thE sky gavE mE a #constEllation</td>\n      <td>8</td>\n      <td>0</td>\n    </tr>\n  </tbody>\n</table>\n</div>"
     },
     "execution_count": 33,
     "metadata": {},
     "output_type": "execute_result"
    }
   ],
   "source": [
    "posts.head()"
   ],
   "metadata": {
    "collapsed": false,
    "pycharm": {
     "name": "#%%\n"
    }
   }
  },
  {
   "cell_type": "code",
   "execution_count": 32,
   "outputs": [
    {
     "name": "stdout",
     "output_type": "stream",
     "text": [
      "<class 'dask.dataframe.core.DataFrame'>\n",
      "Columns: 10 entries, sid to number_comments\n",
      "dtypes: object(10)"
     ]
    }
   ],
   "source": [
    "posts.info()"
   ],
   "metadata": {
    "collapsed": false,
    "pycharm": {
     "name": "#%%\n"
    }
   }
  },
  {
   "cell_type": "code",
   "execution_count": 34,
   "outputs": [
    {
     "data": {
      "text/plain": "      sid               id                                               name  \\\n0  719981  110296492939207                 Playa de Daimuz - Valencia, España   \n1  719983        274391278                                        Nová Vieska   \n2  719985  148885595789195                                      Everest Today   \n3  719987        263258277  BULAC - Bibliothèque universitaire des langues...   \n4  326443  406147529857708                           ABC Cable Networks Group   \n\n                       street    zip                 city region   cd  \\\n0                         NaN    NaN                  NaN    NaN  NaN   \n1                         NaN    NaN          Nová Vieska    NaN   SK   \n2                   Himalayas   +977     Kathmandu, Nepal    NaN   NP   \n3  65, rue des Grands-Moulins  75013        Paris, France    NaN   FR   \n4          3800 W Alameda Ave  91505  Burbank, California    NaN   US   \n\n            phone aj_exact_city_match  ...               dir_city_name  \\\n0             NaN               false  ...                         NaN   \n1             NaN                true  ...                  Kis-Újfalu   \n2             NaN               false  ...                    Pasupati   \n3  01 81 69 18 00               false  ...  13ème Arrondissement Paris   \n4  (818) 569-7500               false  ...                         NaN   \n\n                dir_city_slug dir_country_id dir_country_name          lat  \\\n0                         NaN            NaN              NaN    -0.139475   \n1                  kis-ujfalu             SK         Slovakia    18.466667   \n2                    pasupati             NP            Nepal    85.330150   \n3  13eme-arrondissement-paris             FR           France     2.375995   \n4                         NaN            NaN              NaN  -118.341864   \n\n         lng primary_alias_on_fb  \\\n0  38.974391         daimuzplaya   \n1  47.866667                 NaN   \n2  27.701960        EverestToday   \n3  48.827240         BULAC.Paris   \n4  34.153265                 NaN   \n\n                                                slug  \\\n0                    playa-de-daimuz-valencia-espana   \n1                                        nova-vieska   \n2                                      everest-today   \n3  bulac-bibliotheque-universitaire-des-langues-e...   \n4                           abc-cable-networks-group   \n\n                                website                      cts  \n0  https://es.wikipedia.org/wiki/Daimuz  2019-05-29 01:21:29.987  \n1                                   NaN  2019-05-29 01:21:38.037  \n2                                   NaN  2019-05-29 01:21:46.295  \n3                          www.bulac.fr  2019-05-29 01:21:54.355  \n4                                   NaN  2019-04-02 15:22:55.703  \n\n[5 rows x 23 columns]",
      "text/html": "<div>\n<style scoped>\n    .dataframe tbody tr th:only-of-type {\n        vertical-align: middle;\n    }\n\n    .dataframe tbody tr th {\n        vertical-align: top;\n    }\n\n    .dataframe thead th {\n        text-align: right;\n    }\n</style>\n<table border=\"1\" class=\"dataframe\">\n  <thead>\n    <tr style=\"text-align: right;\">\n      <th></th>\n      <th>sid</th>\n      <th>id</th>\n      <th>name</th>\n      <th>street</th>\n      <th>zip</th>\n      <th>city</th>\n      <th>region</th>\n      <th>cd</th>\n      <th>phone</th>\n      <th>aj_exact_city_match</th>\n      <th>...</th>\n      <th>dir_city_name</th>\n      <th>dir_city_slug</th>\n      <th>dir_country_id</th>\n      <th>dir_country_name</th>\n      <th>lat</th>\n      <th>lng</th>\n      <th>primary_alias_on_fb</th>\n      <th>slug</th>\n      <th>website</th>\n      <th>cts</th>\n    </tr>\n  </thead>\n  <tbody>\n    <tr>\n      <th>0</th>\n      <td>719981</td>\n      <td>110296492939207</td>\n      <td>Playa de Daimuz - Valencia, España</td>\n      <td>NaN</td>\n      <td>NaN</td>\n      <td>NaN</td>\n      <td>NaN</td>\n      <td>NaN</td>\n      <td>NaN</td>\n      <td>false</td>\n      <td>...</td>\n      <td>NaN</td>\n      <td>NaN</td>\n      <td>NaN</td>\n      <td>NaN</td>\n      <td>-0.139475</td>\n      <td>38.974391</td>\n      <td>daimuzplaya</td>\n      <td>playa-de-daimuz-valencia-espana</td>\n      <td>https://es.wikipedia.org/wiki/Daimuz</td>\n      <td>2019-05-29 01:21:29.987</td>\n    </tr>\n    <tr>\n      <th>1</th>\n      <td>719983</td>\n      <td>274391278</td>\n      <td>Nová Vieska</td>\n      <td>NaN</td>\n      <td>NaN</td>\n      <td>Nová Vieska</td>\n      <td>NaN</td>\n      <td>SK</td>\n      <td>NaN</td>\n      <td>true</td>\n      <td>...</td>\n      <td>Kis-Újfalu</td>\n      <td>kis-ujfalu</td>\n      <td>SK</td>\n      <td>Slovakia</td>\n      <td>18.466667</td>\n      <td>47.866667</td>\n      <td>NaN</td>\n      <td>nova-vieska</td>\n      <td>NaN</td>\n      <td>2019-05-29 01:21:38.037</td>\n    </tr>\n    <tr>\n      <th>2</th>\n      <td>719985</td>\n      <td>148885595789195</td>\n      <td>Everest Today</td>\n      <td>Himalayas</td>\n      <td>+977</td>\n      <td>Kathmandu, Nepal</td>\n      <td>NaN</td>\n      <td>NP</td>\n      <td>NaN</td>\n      <td>false</td>\n      <td>...</td>\n      <td>Pasupati</td>\n      <td>pasupati</td>\n      <td>NP</td>\n      <td>Nepal</td>\n      <td>85.330150</td>\n      <td>27.701960</td>\n      <td>EverestToday</td>\n      <td>everest-today</td>\n      <td>NaN</td>\n      <td>2019-05-29 01:21:46.295</td>\n    </tr>\n    <tr>\n      <th>3</th>\n      <td>719987</td>\n      <td>263258277</td>\n      <td>BULAC - Bibliothèque universitaire des langues...</td>\n      <td>65, rue des Grands-Moulins</td>\n      <td>75013</td>\n      <td>Paris, France</td>\n      <td>NaN</td>\n      <td>FR</td>\n      <td>01 81 69 18 00</td>\n      <td>false</td>\n      <td>...</td>\n      <td>13ème Arrondissement Paris</td>\n      <td>13eme-arrondissement-paris</td>\n      <td>FR</td>\n      <td>France</td>\n      <td>2.375995</td>\n      <td>48.827240</td>\n      <td>BULAC.Paris</td>\n      <td>bulac-bibliotheque-universitaire-des-langues-e...</td>\n      <td>www.bulac.fr</td>\n      <td>2019-05-29 01:21:54.355</td>\n    </tr>\n    <tr>\n      <th>4</th>\n      <td>326443</td>\n      <td>406147529857708</td>\n      <td>ABC Cable Networks Group</td>\n      <td>3800 W Alameda Ave</td>\n      <td>91505</td>\n      <td>Burbank, California</td>\n      <td>NaN</td>\n      <td>US</td>\n      <td>(818) 569-7500</td>\n      <td>false</td>\n      <td>...</td>\n      <td>NaN</td>\n      <td>NaN</td>\n      <td>NaN</td>\n      <td>NaN</td>\n      <td>-118.341864</td>\n      <td>34.153265</td>\n      <td>NaN</td>\n      <td>abc-cable-networks-group</td>\n      <td>NaN</td>\n      <td>2019-04-02 15:22:55.703</td>\n    </tr>\n  </tbody>\n</table>\n<p>5 rows × 23 columns</p>\n</div>"
     },
     "execution_count": 34,
     "metadata": {},
     "output_type": "execute_result"
    }
   ],
   "source": [
    "locations.head()"
   ],
   "metadata": {
    "collapsed": false,
    "pycharm": {
     "name": "#%%\n"
    }
   }
  },
  {
   "cell_type": "code",
   "execution_count": 35,
   "outputs": [
    {
     "name": "stdout",
     "output_type": "stream",
     "text": [
      "<class 'dask.dataframe.core.DataFrame'>\n",
      "Columns: 23 entries, sid to cts\n",
      "dtypes: object(23)"
     ]
    }
   ],
   "source": [
    "locations.info()"
   ],
   "metadata": {
    "collapsed": false,
    "pycharm": {
     "name": "#%%\n"
    }
   }
  },
  {
   "cell_type": "code",
   "execution_count": 36,
   "outputs": [
    {
     "data": {
      "text/plain": "        sid sid_profile      post_id  profile_id       location_id  \\\n0  28370919     3496776  BXdjjUlgcgq  2237947779  1022366247837915   \n1  28370932          -1  BVg0pbolYBC  5579335020   457426771112991   \n2  28370933          -1  BRgkjcXFp3Q   313429634   457426771112991   \n3  28370934          -1  BKTKeNhjEA7  1837592700   457426771112991   \n4  28370935          -1   8-NQrvoYLX  1131527143   457426771112991   \n\n                       cts post_type  \\\n0  2017-08-06 20:06:57.000         2   \n1  2017-06-19 09:31:16.000         1   \n2  2017-03-11 20:05:03.000         1   \n3  2016-09-13 16:27:16.000         1   \n4  2015-10-18 10:19:27.000         1   \n\n                                         description numbr_likes  \\\n0  Wreckloose! Deevalley bike park laps on the @i...          80   \n1  🙌🏼 believe in ya dreams 🙌🏼 just like I believe...          25   \n2  #meraviglia #incensi #the #candele #profumo #a...           9   \n3  #teatime #scorpion #friends #love #mountains #...           4   \n4                   thE sky gavE mE a #constEllation           8   \n\n  number_comments  \n0               0  \n1               1  \n2               0  \n3               0  \n4               0  ",
      "text/html": "<div>\n<style scoped>\n    .dataframe tbody tr th:only-of-type {\n        vertical-align: middle;\n    }\n\n    .dataframe tbody tr th {\n        vertical-align: top;\n    }\n\n    .dataframe thead th {\n        text-align: right;\n    }\n</style>\n<table border=\"1\" class=\"dataframe\">\n  <thead>\n    <tr style=\"text-align: right;\">\n      <th></th>\n      <th>sid</th>\n      <th>sid_profile</th>\n      <th>post_id</th>\n      <th>profile_id</th>\n      <th>location_id</th>\n      <th>cts</th>\n      <th>post_type</th>\n      <th>description</th>\n      <th>numbr_likes</th>\n      <th>number_comments</th>\n    </tr>\n  </thead>\n  <tbody>\n    <tr>\n      <th>0</th>\n      <td>28370919</td>\n      <td>3496776</td>\n      <td>BXdjjUlgcgq</td>\n      <td>2237947779</td>\n      <td>1022366247837915</td>\n      <td>2017-08-06 20:06:57.000</td>\n      <td>2</td>\n      <td>Wreckloose! Deevalley bike park laps on the @i...</td>\n      <td>80</td>\n      <td>0</td>\n    </tr>\n    <tr>\n      <th>1</th>\n      <td>28370932</td>\n      <td>-1</td>\n      <td>BVg0pbolYBC</td>\n      <td>5579335020</td>\n      <td>457426771112991</td>\n      <td>2017-06-19 09:31:16.000</td>\n      <td>1</td>\n      <td>🙌🏼 believe in ya dreams 🙌🏼 just like I believe...</td>\n      <td>25</td>\n      <td>1</td>\n    </tr>\n    <tr>\n      <th>2</th>\n      <td>28370933</td>\n      <td>-1</td>\n      <td>BRgkjcXFp3Q</td>\n      <td>313429634</td>\n      <td>457426771112991</td>\n      <td>2017-03-11 20:05:03.000</td>\n      <td>1</td>\n      <td>#meraviglia #incensi #the #candele #profumo #a...</td>\n      <td>9</td>\n      <td>0</td>\n    </tr>\n    <tr>\n      <th>3</th>\n      <td>28370934</td>\n      <td>-1</td>\n      <td>BKTKeNhjEA7</td>\n      <td>1837592700</td>\n      <td>457426771112991</td>\n      <td>2016-09-13 16:27:16.000</td>\n      <td>1</td>\n      <td>#teatime #scorpion #friends #love #mountains #...</td>\n      <td>4</td>\n      <td>0</td>\n    </tr>\n    <tr>\n      <th>4</th>\n      <td>28370935</td>\n      <td>-1</td>\n      <td>8-NQrvoYLX</td>\n      <td>1131527143</td>\n      <td>457426771112991</td>\n      <td>2015-10-18 10:19:27.000</td>\n      <td>1</td>\n      <td>thE sky gavE mE a #constEllation</td>\n      <td>8</td>\n      <td>0</td>\n    </tr>\n  </tbody>\n</table>\n</div>"
     },
     "execution_count": 36,
     "metadata": {},
     "output_type": "execute_result"
    }
   ],
   "source": [
    "posts.head()"
   ],
   "metadata": {
    "collapsed": false,
    "pycharm": {
     "name": "#%%\n"
    }
   }
  },
  {
   "cell_type": "code",
   "execution_count": 37,
   "outputs": [
    {
     "name": "stdout",
     "output_type": "stream",
     "text": [
      "<class 'dask.dataframe.core.DataFrame'>\n",
      "Columns: 10 entries, sid to number_comments\n",
      "dtypes: object(10)"
     ]
    }
   ],
   "source": [
    "posts.info()"
   ],
   "metadata": {
    "collapsed": false,
    "pycharm": {
     "name": "#%%\n"
    }
   }
  },
  {
   "cell_type": "code",
   "execution_count": null,
   "outputs": [],
   "source": [],
   "metadata": {
    "collapsed": false,
    "pycharm": {
     "name": "#%%\n"
    }
   }
  }
 ],
 "metadata": {
  "kernelspec": {
   "display_name": "Python 3 (ipykernel)",
   "language": "python",
   "name": "python3"
  },
  "language_info": {
   "codemirror_mode": {
    "name": "ipython",
    "version": 3
   },
   "file_extension": ".py",
   "mimetype": "text/x-python",
   "name": "python",
   "nbconvert_exporter": "python",
   "pygments_lexer": "ipython3",
   "version": "3.9.7"
  }
 },
 "nbformat": 4,
 "nbformat_minor": 4
}